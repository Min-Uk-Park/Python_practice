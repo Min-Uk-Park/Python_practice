{
 "cells": [
  {
   "cell_type": "code",
   "execution_count": 6,
   "metadata": {},
   "outputs": [],
   "source": [
    "import csv,re,os,sys\n",
    "import pandas as pd\n",
    "# from tabulate import tabulate\n",
    "# print(os.getcwd())\n",
    "\n",
    "import usecsv\n",
    "# sys.path.append('c:/test/issue')\n",
    "# sys.path.append('c:\\Users\\LG\\Desktop\\Python_practice')\n",
    "os.chdir('c:/test/issue')\n",
    "\n",
    "# print(os.listdir())\n",
    "# file = usecsv.opencsv('ISSUE_201905.xls')\n",
    "# file_a = []\n",
    "\n",
    "# for i in file:\n",
    "#     file_a.append(i[0].split('\\t'))\n",
    "\n",
    "# print(file_a[0])\n",
    "\n",
    "# final_file = pd.DataFrame(file_a)\n",
    "\n",
    "# final_file.columns = ['일시', '지점', '폭염여부', '최고체감온도', '최고기온', '평균기온', '최저기온', '평균상대습도', '폭염특보', '폭염영향예보', '열대야', '자외선지수']\n",
    "\n",
    "# final_file = final_file[1:]\n",
    "\n",
    "# print(final_file)\n"
   ]
  },
  {
   "cell_type": "code",
   "execution_count": 7,
   "metadata": {},
   "outputs": [],
   "source": [
    "list = os.listdir()\n",
    "\n",
    "filelist = [i for i in list if re.match('ISSUE_\\d{6}.xls',i)]\n",
    "\n",
    "# print(filelist)\n"
   ]
  },
  {
   "cell_type": "code",
   "execution_count": 8,
   "metadata": {},
   "outputs": [],
   "source": [
    "\n",
    "final_data = []\n",
    "n=0\n",
    "for i in filelist:\n",
    "    data=usecsv.opencsv(i)\n",
    "    for j in data[n:]:\n",
    "        final_data.append(j[0].split('\\t'))\n",
    "        n=1\n",
    "          \n",
    "\n",
    "# final_df = pd.DataFrame(final_data)\n",
    "\n",
    "# final_df.columns = '일시', '지점', '폭염여부', '최고체감온도', '최고기온',\\\n",
    "#     '평균기온', '최저기온', '평균상대습도', '폭염특보', '폭염영향예보', '열대야', '자외선지수'\n",
    "\n",
    "# final_df = final_df[1:]\n",
    "\n",
    "# final_df['지점'].str.contains('전주') # 리스트랑 다르게 for문 없이 모든 행 비교 가능\n",
    "\n",
    "# final_data[:10]"
   ]
  },
  {
   "cell_type": "code",
   "execution_count": 9,
   "metadata": {},
   "outputs": [],
   "source": [
    "final_data = usecsv.switch(final_data)"
   ]
  },
  {
   "cell_type": "code",
   "execution_count": 11,
   "metadata": {},
   "outputs": [],
   "source": [
    "jeonju_data = []\n",
    "for i in final_data:\n",
    "    if re.match('전주',i[1]):\n",
    "        jeonju_data.append(i)\n",
    "        "
   ]
  },
  {
   "cell_type": "code",
   "execution_count": 15,
   "metadata": {},
   "outputs": [],
   "source": [
    "usecsv.writecsv('issuejeonju3_data.csv',jeonju_data)"
   ]
  }
 ],
 "metadata": {
  "kernelspec": {
   "display_name": "base",
   "language": "python",
   "name": "python3"
  },
  "language_info": {
   "codemirror_mode": {
    "name": "ipython",
    "version": 3
   },
   "file_extension": ".py",
   "mimetype": "text/x-python",
   "name": "python",
   "nbconvert_exporter": "python",
   "pygments_lexer": "ipython3",
   "version": "3.7.3"
  },
  "orig_nbformat": 4
 },
 "nbformat": 4,
 "nbformat_minor": 2
}
