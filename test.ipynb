{
 "cells": [
  {
   "cell_type": "code",
   "execution_count": 53,
   "metadata": {},
   "outputs": [
    {
     "name": "stdout",
     "output_type": "stream",
     "text": [
      "html>body>div[3]>div[3]>div>div>div[5]>div[5]>div[3]>div>div[1]>div[2]>div[2]>div>div[1]>table>tbody>tr[1]>td[5]>div\n",
      "html>body>div>div>div>div>div>div>div>div>div>div>div>div>div>table>tbody>tr>td>div\n"
     ]
    },
    {
     "data": {
      "text/plain": [
       "[]"
      ]
     },
     "execution_count": 53,
     "metadata": {},
     "output_type": "execute_result"
    }
   ],
   "source": [
    "import requests\n",
    "from bs4 import BeautifulSoup as bs\n",
    "import re\n",
    "response = requests.get('http://data.krx.co.kr/contents/MMC/ISIF/isif/MMCISIF003.cmd?tabIndex=0&isuCd=KR7036460004&isuSrtCd=036460&isuTp=STK&isuTpDtl=&prodId=').text\n",
    "data = bs(response,'html.parser')\n",
    "\n",
    "print(re.sub('/','>','html/body/div[3]/div[3]/div/div/div[5]/div[5]/div[3]/div/div[1]/div[2]/div[2]/div/div[1]/table/tbody/tr[1]/td[5]/div'))\n",
    "print(re.sub(r'\\[[0-9]\\]','','html>body>div[3]>div[3]>div>div>div[5]>div[5]>div[3]>div>div[1]>div[2]>div[2]>div>div[1]>table>tbody>tr[1]>td[5]>div'))\n",
    "\n",
    "data.select('html>body>div>div>div>div>div>div>div>div>div>div>div>div>div>table>tbody>tr>td>div')\n"
   ]
  }
 ],
 "metadata": {
  "kernelspec": {
   "display_name": "base",
   "language": "python",
   "name": "python3"
  },
  "language_info": {
   "codemirror_mode": {
    "name": "ipython",
    "version": 3
   },
   "file_extension": ".py",
   "mimetype": "text/x-python",
   "name": "python",
   "nbconvert_exporter": "python",
   "pygments_lexer": "ipython3",
   "version": "3.7.3"
  },
  "orig_nbformat": 4
 },
 "nbformat": 4,
 "nbformat_minor": 2
}
