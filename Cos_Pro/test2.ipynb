{
 "cells": [
  {
   "cell_type": "code",
   "execution_count": 1,
   "metadata": {},
   "outputs": [
    {
     "data": {
      "text/plain": [
       "5"
      ]
     },
     "execution_count": 1,
     "metadata": {},
     "output_type": "execute_result"
    }
   ],
   "source": [
    "# 2차 - 문제1\n",
    "\n",
    "left_gloves = [2, 1, 2, 2, 4, 7]\n",
    "right_gloves = [1, 2, 2, 4, 4, 7]\n",
    "\n",
    "\n",
    "def fun_a(arr) :\n",
    "    \n",
    "    count_arr = [0 for _ in range(10)] # [0,0, .. 0]\n",
    "    \n",
    "    for i in range(1,11) :\n",
    "        for j in arr :\n",
    "            if (i == j) :\n",
    "                count_arr[i-1] += 1\n",
    "    return count_arr\n",
    "        \n",
    "\n",
    "def solution_1(left, right) :\n",
    "    \n",
    "    count = 0\n",
    "    \n",
    "    left_gloves = fun_a(left) \n",
    "    right_gloves = fun_a(right)\n",
    "    \n",
    "    for i, j in zip(left_gloves, right_gloves) :\n",
    "        count += min(i, j)\n",
    "    \n",
    "    return count\n",
    "\n",
    "solution_1(left_gloves, right_gloves)\n",
    "                \n",
    "    \n",
    "\n"
   ]
  },
  {
   "cell_type": "code",
   "execution_count": 2,
   "metadata": {},
   "outputs": [
    {
     "data": {
      "text/plain": [
       "'five'"
      ]
     },
     "execution_count": 2,
     "metadata": {},
     "output_type": "execute_result"
    }
   ],
   "source": [
    "# 2차 - 문제2\n",
    "\n",
    "arr = [3, 6, 9, 5, 15, 5, 5, 3, 3, 3, 3, 5, 25, 27, 15, 30, 60, 55, 5, 5, 5, 5, 5]\n",
    "\n",
    "def fun_2a(arr) :\n",
    "    count = 0\n",
    "    \n",
    "    for i in arr :\n",
    "        if (i % 3 == 0) :\n",
    "            count += 1\n",
    "    \n",
    "    return count\n",
    "\n",
    "def fun_2b(arr) :\n",
    "    count = 0\n",
    "    \n",
    "    for i in arr :\n",
    "        if (i % 5 == 0) :\n",
    "            count += 1\n",
    "    \n",
    "    return count\n",
    "\n",
    "def fun_2c(t, f) :\n",
    "\n",
    "    ans = \"same\" if (t == f) else \"three\" if (t > f) else \"five\"\n",
    "    \n",
    "    return ans\n",
    "    \n",
    "    \n",
    "\n",
    "def solution_2(arr) :\n",
    "    \n",
    "    three = fun_2a(arr)\n",
    "    five = fun_2b(arr)\n",
    "    ans = fun_2c(three, five)\n",
    "    \n",
    "    return ans\n",
    "\n",
    "solution_2(arr)\n",
    "\n",
    " "
   ]
  },
  {
   "cell_type": "code",
   "execution_count": 3,
   "metadata": {},
   "outputs": [
    {
     "data": {
      "text/plain": [
       "52"
      ]
     },
     "execution_count": 3,
     "metadata": {},
     "output_type": "execute_result"
    }
   ],
   "source": [
    "# 2차 - 문제3\n",
    "\n",
    "N = 4\n",
    "M = 7\n",
    "\n",
    "def solution_3(n, m) :\n",
    "    sum = 0\n",
    "    \n",
    "    for i in range(n,m+1) :\n",
    "        if (i % 2 == 0) :\n",
    "            i *= i\n",
    "            sum += i\n",
    "            \n",
    "    return sum\n",
    "\n",
    "sum = solution_3(N, M)\n",
    "sum\n",
    "        \n"
   ]
  },
  {
   "cell_type": "code",
   "execution_count": 4,
   "metadata": {},
   "outputs": [
    {
     "data": {
      "text/plain": [
       "'empty'"
      ]
     },
     "execution_count": 4,
     "metadata": {},
     "output_type": "execute_result"
    }
   ],
   "source": [
    "# 2차 - 문제4\n",
    "\n",
    "words_1 = ['my', 'favorite', 'color', 'is', 'violet']\n",
    "words_2 = ['yes', 'i', 'am']\n",
    "\n",
    "def solution_4(words) :\n",
    "    ans = \"\"\n",
    "    \n",
    "    for word in words :\n",
    "        if (len(word) >= 5) :\n",
    "            ans += word\n",
    "    \n",
    "    if (len(ans) == 0) :\n",
    "        return \"empty\"\n",
    "    \n",
    "    return ans\n",
    "\n",
    "solution_4(words_2)"
   ]
  },
  {
   "cell_type": "code",
   "execution_count": 5,
   "metadata": {},
   "outputs": [
    {
     "data": {
      "text/plain": [
       "3"
      ]
     },
     "execution_count": 5,
     "metadata": {},
     "output_type": "execute_result"
    }
   ],
   "source": [
    "# 2차 - 문제5\n",
    "\n",
    "attack = 30 # 1 이상 100 이하\n",
    "recovery = 10 # 1 이상 100 이하\n",
    "hp = 60 # 200 이상 100 이하\n",
    "\n",
    "def solution_5(attack, recovery, hp) :\n",
    "    attack_count = 0\n",
    "    \n",
    "    while(hp != 0) :\n",
    "        hp -= attack # 먼저 공격\n",
    "        hp += recovery # 체력 회복\n",
    "        \n",
    "        attack_count += 1\n",
    "        \n",
    "    return attack_count\n",
    "\n",
    "        \n",
    "        \n",
    "solution_5(attack, recovery, hp)\n",
    "\n",
    "\n",
    "\n"
   ]
  },
  {
   "cell_type": "code",
   "execution_count": 11,
   "metadata": {},
   "outputs": [
    {
     "data": {
      "text/plain": [
       "9"
      ]
     },
     "execution_count": 11,
     "metadata": {},
     "output_type": "execute_result"
    }
   ],
   "source": [
    "# 2차 - 문제6\n",
    "floors = [1,2,5,4,4,1,2]\n",
    "\n",
    "def solution_6(floors) :\n",
    "    distance = 0\n",
    "    for i in range(len(floors)-1) :\n",
    "        abs_dis = 0\n",
    "        abs_dis = floors[i+1] - floors[i] if (floors[i+1] - floors[i] > 0) else floors[i] - floors[i+1]\n",
    "        \n",
    "        distance += abs_dis\n",
    "        \n",
    "    return distance\n",
    "\n",
    "solution_6(floors)\n",
    "        \n",
    "        "
   ]
  },
  {
   "cell_type": "code",
   "execution_count": 15,
   "metadata": {},
   "outputs": [
    {
     "data": {
      "text/plain": [
       "980"
      ]
     },
     "execution_count": 15,
     "metadata": {},
     "output_type": "execute_result"
    }
   ],
   "source": [
    "# 2차 - 문제7\n",
    "\n",
    "value = 527\n",
    "unit = \"C\"\n",
    "\n",
    "def solution_7(value, unit) :\n",
    "    \n",
    "    if (unit == \"C\") :\n",
    "        return (int)((value * 1.8) + 32)\n",
    "        \n",
    "    elif (unit == \"F\") :\n",
    "        return (int)((value - 32) / 1.8)\n",
    "    \n",
    "    else : \n",
    "        return False\n",
    "    \n",
    "    \n",
    "solution_7(value, unit)          \n",
    "    \n",
    "\n"
   ]
  },
  {
   "cell_type": "code",
   "execution_count": 34,
   "metadata": {},
   "outputs": [
    {
     "data": {
      "text/plain": [
       "5"
      ]
     },
     "execution_count": 34,
     "metadata": {},
     "output_type": "execute_result"
    }
   ],
   "source": [
    "# 2차 - 문제8\n",
    "\n",
    "nums = [1, 2, 3, 4, 5, 6, 7, 8, 9]\n",
    "number = 29022531\n",
    "\n",
    "def fun(nums) :\n",
    "    count = 0\n",
    "    \n",
    "    for num in nums[:] :\n",
    "        deci = 0\n",
    "        if (num == 1) : continue\n",
    "        \n",
    "        for i in range(1,num+1) :\n",
    "            if (num % i == 0) :\n",
    "                deci += 1\n",
    "            if (deci > 2) :\n",
    "                break\n",
    "            if (i == num) :\n",
    "                count += 1\n",
    "                # print(num)\n",
    "    return count\n",
    "\n",
    "def solution_8(number) :\n",
    "    nums = []\n",
    "    \n",
    "    while(number != 0) :\n",
    "        natural_num = number % 10\n",
    "        number = number // 10\n",
    "        \n",
    "        # print(natural_num)\n",
    "        nums.append(natural_num)\n",
    "        \n",
    "    return fun(nums)\n",
    "\n",
    "solution_8(number)"
   ]
  },
  {
   "cell_type": "code",
   "execution_count": 22,
   "metadata": {},
   "outputs": [
    {
     "name": "stdout",
     "output_type": "stream",
     "text": [
      "1\n",
      "2\n",
      "3\n",
      "5\n",
      "7\n"
     ]
    },
    {
     "data": {
      "text/plain": [
       "5"
      ]
     },
     "execution_count": 22,
     "metadata": {},
     "output_type": "execute_result"
    }
   ],
   "source": [
    "# 2차 - 문제9\n",
    "\n"
   ]
  }
 ],
 "metadata": {
  "kernelspec": {
   "display_name": "base",
   "language": "python",
   "name": "python3"
  },
  "language_info": {
   "codemirror_mode": {
    "name": "ipython",
    "version": 3
   },
   "file_extension": ".py",
   "mimetype": "text/x-python",
   "name": "python",
   "nbconvert_exporter": "python",
   "pygments_lexer": "ipython3",
   "version": "3.7.3"
  },
  "orig_nbformat": 4
 },
 "nbformat": 4,
 "nbformat_minor": 2
}
