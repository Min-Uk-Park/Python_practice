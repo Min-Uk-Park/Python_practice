{
 "cells": [
  {
   "cell_type": "code",
   "execution_count": 21,
   "metadata": {},
   "outputs": [
    {
     "data": {
      "text/plain": [
       "5"
      ]
     },
     "execution_count": 21,
     "metadata": {},
     "output_type": "execute_result"
    }
   ],
   "source": [
    "# 2차 - 문제1\n",
    "\n",
    "left_gloves = [2, 1, 2, 2, 4, 7]\n",
    "right_gloves = [1, 2, 2, 4, 4, 7]\n",
    "\n",
    "\n",
    "def fun_a(arr) :\n",
    "    \n",
    "    count_arr = [0 for _ in range(10)] # [0,0, .. 0]\n",
    "    \n",
    "    for i in range(1,11) :\n",
    "        for j in arr :\n",
    "            if (i == j) :\n",
    "                count_arr[i-1] += 1\n",
    "    return count_arr\n",
    "        \n",
    "\n",
    "def solution_1(left, right) :\n",
    "    \n",
    "    count = 0\n",
    "    \n",
    "    left_gloves = fun_a(left) \n",
    "    right_gloves = fun_a(right)\n",
    "    \n",
    "    for i, j in zip(left_gloves, right_gloves) :\n",
    "        count += min(i, j)\n",
    "    \n",
    "    return count\n",
    "\n",
    "solution_1(left_gloves, right_gloves)\n",
    "                \n",
    "    \n",
    "\n"
   ]
  },
  {
   "cell_type": "code",
   "execution_count": 23,
   "metadata": {},
   "outputs": [
    {
     "data": {
      "text/plain": [
       "'five'"
      ]
     },
     "execution_count": 23,
     "metadata": {},
     "output_type": "execute_result"
    }
   ],
   "source": [
    "# 2차 - 문제2\n",
    "\n",
    "arr = [3, 6, 9, 5, 15, 5, 5, 3, 3, 3, 3, 5, 25, 27, 15, 30, 60, 55, 5, 5, 5, 5, 5]\n",
    "\n",
    "def fun_2a(arr) :\n",
    "    count = 0\n",
    "    \n",
    "    for i in arr :\n",
    "        if (i % 3 == 0) :\n",
    "            count += 1\n",
    "    \n",
    "    return count\n",
    "\n",
    "def fun_2b(arr) :\n",
    "    count = 0\n",
    "    \n",
    "    for i in arr :\n",
    "        if (i % 5 == 0) :\n",
    "            count += 1\n",
    "    \n",
    "    return count\n",
    "\n",
    "def fun_2c(t, f) :\n",
    "\n",
    "    ans = \"same\" if (t == f) else \"three\" if (t > f) else \"five\"\n",
    "    \n",
    "    return ans\n",
    "    \n",
    "    \n",
    "\n",
    "def solution_2(arr) :\n",
    "    \n",
    "    three = fun_2a(arr)\n",
    "    five = fun_2b(arr)\n",
    "    ans = fun_2c(three, five)\n",
    "    \n",
    "    return ans\n",
    "\n",
    "solution_2(arr)\n",
    "\n",
    " "
   ]
  },
  {
   "cell_type": "code",
   "execution_count": 25,
   "metadata": {},
   "outputs": [
    {
     "data": {
      "text/plain": [
       "52"
      ]
     },
     "execution_count": 25,
     "metadata": {},
     "output_type": "execute_result"
    }
   ],
   "source": [
    "# 2차 - 문제3\n",
    "\n",
    "N = 4\n",
    "M = 7\n",
    "\n",
    "def solution_3(n, m) :\n",
    "    sum = 0\n",
    "    \n",
    "    for i in range(n,m+1) :\n",
    "        if (i % 2 == 0) :\n",
    "            i *= i\n",
    "            sum += i\n",
    "            \n",
    "    return sum\n",
    "\n",
    "sum = solution_3(N, M)\n",
    "sum\n",
    "        \n"
   ]
  },
  {
   "cell_type": "code",
   "execution_count": 28,
   "metadata": {},
   "outputs": [
    {
     "data": {
      "text/plain": [
       "'empty'"
      ]
     },
     "execution_count": 28,
     "metadata": {},
     "output_type": "execute_result"
    }
   ],
   "source": [
    "# 2차 - 문제4\n",
    "\n",
    "words_1 = ['my', 'favorite', 'color', 'is', 'violet']\n",
    "words_2 = ['yes', 'i', 'am']\n",
    "\n",
    "def solution_4(words) :\n",
    "    ans = \"\"\n",
    "    \n",
    "    for word in words :\n",
    "        if (len(word) >= 5) :\n",
    "            ans += word\n",
    "    \n",
    "    if (len(ans) == 0) :\n",
    "        return \"empty\"\n",
    "    \n",
    "    return ans\n",
    "\n",
    "solution_4(words_2)"
   ]
  },
  {
   "cell_type": "code",
   "execution_count": 30,
   "metadata": {},
   "outputs": [
    {
     "data": {
      "text/plain": [
       "3"
      ]
     },
     "execution_count": 30,
     "metadata": {},
     "output_type": "execute_result"
    }
   ],
   "source": [
    "# 2차 - 문제5\n",
    "\n",
    "attack = 30 # 1 이상 100 이하\n",
    "recovery = 10 # 1 이상 100 이하\n",
    "hp = 60 # 200 이상 100 이하\n",
    "\n",
    "def solution_5(attack, recovery, hp) :\n",
    "    attack_count = 0\n",
    "    \n",
    "    while(hp != 0) :\n",
    "        hp -= attack # 먼저 공격\n",
    "        hp += recovery # 체력 회복\n",
    "        \n",
    "        attack_count += 1\n",
    "        \n",
    "    return attack_count\n",
    "\n",
    "        \n",
    "        \n",
    "solution_5(attack, recovery, hp)\n",
    "\n",
    "\n",
    "\n"
   ]
  }
 ],
 "metadata": {
  "kernelspec": {
   "display_name": "base",
   "language": "python",
   "name": "python3"
  },
  "language_info": {
   "codemirror_mode": {
    "name": "ipython",
    "version": 3
   },
   "file_extension": ".py",
   "mimetype": "text/x-python",
   "name": "python",
   "nbconvert_exporter": "python",
   "pygments_lexer": "ipython3",
   "version": "3.7.3"
  },
  "orig_nbformat": 4
 },
 "nbformat": 4,
 "nbformat_minor": 2
}
