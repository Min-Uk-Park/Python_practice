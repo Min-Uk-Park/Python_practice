{
 "cells": [
  {
   "cell_type": "code",
   "execution_count": 1,
   "metadata": {},
   "outputs": [
    {
     "data": {
      "text/plain": [
       "3"
      ]
     },
     "execution_count": 1,
     "metadata": {},
     "output_type": "execute_result"
    }
   ],
   "source": [
    "# 3차 - 문제1\n",
    "\n",
    "scores = [20, 60, 98, 59]\n",
    "n = 3\n",
    "\n",
    "\n",
    "def fun_a(scores, n) :\n",
    "    nScore = scores[n]\n",
    "    \n",
    "    return nScore\n",
    "\n",
    "\n",
    "def fun_b(scores) :\n",
    "    # for i in range(len(scores)-1) :\n",
    "        \n",
    "    #     for j in range(i+1,len(scores)) : \n",
    "    #         if (scores[i] < scores[j]) :\n",
    "    #             temp = scores[j]\n",
    "    #             scores[j] = scores[i]\n",
    "    #             scores[i] = temp\n",
    "    \n",
    "    scores.sort(reverse=True)\n",
    "\n",
    "    return scores\n",
    "                \n",
    "def fun_c(desscores, nScore) : \n",
    "    for i in range(len(desscores)) :\n",
    "        if (desscores[i] == nScore) :\n",
    "            return i+1\n",
    "            \n",
    "def solution_1(scores, n) :\n",
    "    nScore = fun_a(scores, n)\n",
    "    desscores = fun_b(scores)\n",
    "    result = fun_c(desscores, nScore)\n",
    "    \n",
    "    return result\n",
    "    \n",
    "\n",
    "solution_1(scores, n)\n",
    "    \n",
    "    "
   ]
  },
  {
   "cell_type": "code",
   "execution_count": 33,
   "metadata": {},
   "outputs": [
    {
     "name": "stdout",
     "output_type": "stream",
     "text": [
      "{100: 1, 95: 2, 80: 3, 70: 5, 50: 6}\n",
      "[70, 100, 70, 80, 50, 95]\n",
      "[35, 65, 80, 50, 20, 60]\n",
      "[35, 35, 35, 30, 30, -10]\n",
      "35\n"
     ]
    },
    {
     "data": {
      "text/plain": [
       "3"
      ]
     },
     "execution_count": 33,
     "metadata": {},
     "output_type": "execute_result"
    }
   ],
   "source": [
    "# 3차 - 문제2\n",
    "\n",
    "current_grade = [70, 100, 70, 80, 50, 95]\n",
    "last_grade = [35, 65, 80, 50, 20, 60]\n",
    "\n",
    "\n",
    "def fun_2a(arr) :\n",
    "    dict = {}\n",
    "    rank = 1\n",
    "    arr = sorted(arr,reverse=True)\n",
    "    \n",
    "    for score in arr :\n",
    "        dict[score] = rank\n",
    "        rank += 1\n",
    "    print(dict)\n",
    "    return dict\n",
    "    \n",
    "def fun_2b(c, l) :\n",
    "    print(c)\n",
    "    print(l)\n",
    "    scoreChanges = [(c[i] - l[i]) for i in range(len(c))]\n",
    "    scoreChanges.sort(reverse= True)\n",
    "    max = scoreChanges[0]\n",
    "    print(scoreChanges)\n",
    "    \n",
    "    return scoreChanges, max\n",
    "    \n",
    "        \n",
    "        \n",
    "    \n",
    "def fun_2c(c_rank, max, scoreChanges) :\n",
    "    count = 0\n",
    "    k = 0\n",
    "    for i, j in zip(c_rank.keys(), c_rank.values()) :\n",
    "        if (i >= 80 and j < (len(c_rank) * 0.1)) :\n",
    "            count += 1\n",
    "            \n",
    "        elif (i >= 80 and j == 1) :\n",
    "            count += 1\n",
    "            \n",
    "        elif (scoreChanges[k] == max) :\n",
    "            count += 1\n",
    "        k += 1\n",
    "    return count\n",
    "      \n",
    "    \n",
    "    \n",
    "def solution_2(current_grade, last_grade) :\n",
    "    c_rank = fun_2a(current_grade)\n",
    "    \n",
    "    scoreChanges, max = fun_2b(current_grade, last_grade)\n",
    "    print(max)\n",
    "    count = fun_2c(c_rank, max, scoreChanges)\n",
    "    \n",
    "    return count\n",
    "\n",
    "solution_2(current_grade, last_grade)\n",
    "\n",
    "\n"
   ]
  },
  {
   "cell_type": "code",
   "execution_count": 13,
   "metadata": {},
   "outputs": [
    {
     "name": "stdout",
     "output_type": "stream",
     "text": [
      "1 2\n",
      "3 4\n"
     ]
    }
   ],
   "source": [
    "dicts = {1 :2, 3 : 4}\n",
    "\n",
    "def kkk(dicts) :\n",
    "   \n",
    "    for i, j in zip(dicts.keys(), dicts.values()) :\n",
    "        print(i, j)\n",
    "\n",
    "kkk(dicts)"
   ]
  }
 ],
 "metadata": {
  "kernelspec": {
   "display_name": "base",
   "language": "python",
   "name": "python3"
  },
  "language_info": {
   "codemirror_mode": {
    "name": "ipython",
    "version": 3
   },
   "file_extension": ".py",
   "mimetype": "text/x-python",
   "name": "python",
   "nbconvert_exporter": "python",
   "pygments_lexer": "ipython3",
   "version": "3.7.3"
  },
  "orig_nbformat": 4
 },
 "nbformat": 4,
 "nbformat_minor": 2
}
