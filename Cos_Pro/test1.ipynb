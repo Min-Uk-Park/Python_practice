{
 "cells": [
  {
   "cell_type": "code",
   "execution_count": 1,
   "metadata": {},
   "outputs": [
    {
     "data": {
      "text/plain": [
       "[1, 2, 0, 2, 1, 0]"
      ]
     },
     "execution_count": 1,
     "metadata": {},
     "output_type": "execute_result"
    }
   ],
   "source": [
    "# 1차 - 문제 1\n",
    "\n",
    "shirt_size = [\"XS\", \"S\", \"M\", \"L\", \"XL\", \"XXL\"]\n",
    "\n",
    "\n",
    "\n",
    "def solution_1(shirt_size) :\n",
    "    count = [0,0,0,0,0,0]\n",
    "    \n",
    "    student_size = [\"XS\", \"XL\", \"S\", \"L\", \"L\", \"S\"]\n",
    "    \n",
    "    for num,size in enumerate(shirt_size) :\n",
    "        for studentSize in student_size :\n",
    "            if(size == studentSize) :\n",
    "                count[num] = count[num] + 1  \n",
    "                \n",
    "    return count\n",
    "                \n",
    "        \n",
    "        \n",
    "    return count_list\n",
    "\n",
    "count = solution_1(shirt_size)\n",
    "count"
   ]
  },
  {
   "cell_type": "code",
   "execution_count": 2,
   "metadata": {},
   "outputs": [
    {
     "data": {
      "text/plain": [
       "92055"
      ]
     },
     "execution_count": 2,
     "metadata": {},
     "output_type": "execute_result"
    }
   ],
   "source": [
    "# 1차 - 문제2\n",
    "\n",
    "\n",
    "\n",
    "def solution_2(price, grade) :\n",
    "    dict = {\"S\" : 0.05,\"G\" : 0.1, \"V\" : 0.15}\n",
    "    \n",
    "    for gr, sale in zip(dict.keys(),dict.values()) :\n",
    "        if(grade == gr) :\n",
    "            sale_price = price * (1-sale)\n",
    "    \n",
    "    return int(sale_price)\n",
    "\n",
    "salePrice = solution_2(96900,\"S\")\n",
    "salePrice"
   ]
  },
  {
   "cell_type": "code",
   "execution_count": 3,
   "metadata": {},
   "outputs": [
    {
     "data": {
      "text/plain": [
       "31"
      ]
     },
     "execution_count": 3,
     "metadata": {},
     "output_type": "execute_result"
    }
   ],
   "source": [
    "# 1차 - 문제3\n",
    "\n",
    "def fun_a(month, day) :\n",
    "    dayList = [31, 28, 31, 30, 31, 30, 31, 31, 30, 31, 30, 31]\n",
    "    if(month == 1) :\n",
    "        return day - 1\n",
    "    \n",
    "    else :\n",
    "        d = day - 1\n",
    "        for i in dayList[:month-1] :\n",
    "            d += i\n",
    "        return d\n",
    "\n",
    "def solution_3(startMon,startDay,endMon,endDay) :\n",
    "    a = fun_a(startMon,startDay) \n",
    "    b = fun_a(endMon,endDay) \n",
    "    \n",
    "    return b - a\n",
    "\n",
    "result = solution_3(1,2,2,2)\n",
    "result"
   ]
  },
  {
   "cell_type": "code",
   "execution_count": 4,
   "metadata": {},
   "outputs": [
    {
     "data": {
      "text/plain": [
       "2"
      ]
     },
     "execution_count": 4,
     "metadata": {},
     "output_type": "execute_result"
    }
   ],
   "source": [
    "# 1차 - 문제4\n",
    "\n",
    "def solution_4(arr) :\n",
    "    nat_arr = [1, 2, 3, 4, 5, 6, 7, 8, 9]\n",
    "    num_dict = {1 : 0, 2 : 0, 3: 0, 4 : 0, 5 : 0, 6: 0, 7: 0, 8 : 0, 9: 0}\n",
    "    \n",
    "    \n",
    "    for count, num in enumerate(nat_arr) :\n",
    "        for n in arr :\n",
    "            if (num == n) :\n",
    "                num_dict[num] = num_dict[num] + 1\n",
    "    \n",
    "    sort_count = list(num_dict.values())\n",
    "    sort_count.sort()       \n",
    "    \n",
    "    for i in sort_count :\n",
    "        if (i > 0) :\n",
    "            min = i\n",
    "            break\n",
    "        \n",
    "    max = sort_count[8]\n",
    "    \n",
    "    return max // min\n",
    "    \n",
    "    \n",
    "solution_4([1,2,3,3,1,3,3,2,3,2])\n",
    "\n",
    "\n"
   ]
  },
  {
   "cell_type": "code",
   "execution_count": 5,
   "metadata": {},
   "outputs": [
    {
     "data": {
      "text/plain": [
       "[100, 88, 4, 3, 2, 1, -20, -50]"
      ]
     },
     "execution_count": 5,
     "metadata": {},
     "output_type": "execute_result"
    }
   ],
   "source": [
    "# 1차 - 문제5\n",
    "\n",
    "arr = [1, 4, 2, 3, 100, 88 ,-20, -50]\n",
    "length = len(arr)\n",
    "\n",
    "def solution_5(arr) :\n",
    "    k = len(arr) - 1\n",
    "    \n",
    "    for i in range(len(arr)-1) :\n",
    "        max = arr[i]\n",
    "        \n",
    "        for j in range(k):\n",
    "            \n",
    "            if (max < arr[j+i+1]) :\n",
    "                \n",
    "                arr[i] = arr[j+i+1]\n",
    "                arr[j+i+1] = max\n",
    "                max = arr[i]\n",
    "\n",
    "                \n",
    "        k = k - 1\n",
    "    \n",
    "    return arr\n",
    "\n",
    "    \n",
    "if (length >= 1 & length <= 100) :\n",
    "    reverse_arr = solution_5(arr)\n",
    "else :\n",
    "    print(\"배열을 다시 설정하세요. \")\n",
    "\n",
    "\n",
    "\n",
    "\n",
    "reverse_arr"
   ]
  },
  {
   "cell_type": "code",
   "execution_count": 6,
   "metadata": {},
   "outputs": [
    {
     "data": {
      "text/plain": [
       "22"
      ]
     },
     "execution_count": 6,
     "metadata": {},
     "output_type": "execute_result"
    }
   ],
   "source": [
    "# 1차 - 문제6\n",
    "\n",
    "number = 40\n",
    "\n",
    "def solution_6(number) :\n",
    "    \n",
    "    count = 0\n",
    "    \n",
    "    for num in range(1,number+1) :\n",
    "        # 100이상의 수\n",
    "        if (num >= 100) :\n",
    "            if ((num // 100) == 3 or (num // 100) == 6 or (num // 100) == 9) :\n",
    "                count += 1\n",
    "            if (((num // 10) % 10) == 3 or ((num // 10) % 10) == 6 or ((num // 10) % 10) == 9) :\n",
    "                count += 1\n",
    "            if ((num % 10) == 3 or (num % 10) == 6 or (num % 10) == 9) :\n",
    "                count += 1\n",
    "        \n",
    "        elif (num >= 10) :\n",
    "            if ((num // 10) == 3 or (num // 10) == 6 or (num // 10) == 9) :\n",
    "                count += 1\n",
    "            if ((num % 10) == 3 or (num % 10) == 6 or (num % 10) == 9) :\n",
    "                count += 1\n",
    "                \n",
    "        else :\n",
    "            if (num % 3 == 0) :\n",
    "                count += 1\n",
    "        \n",
    "      \n",
    "    \n",
    "    return count\n",
    "\n",
    "if (number >= 10 & number <=1000) :\n",
    "    answer = solution_6(number)\n",
    "\n",
    "answer"
   ]
  },
  {
   "cell_type": "code",
   "execution_count": 7,
   "metadata": {},
   "outputs": [
    {
     "data": {
      "text/plain": [
       "22"
      ]
     },
     "execution_count": 7,
     "metadata": {},
     "output_type": "execute_result"
    }
   ],
   "source": [
    "# 1차 - 문제6\n",
    "\n",
    "number = 40\n",
    "\n",
    "def solution_6_answer(number) :\n",
    "    count = 0\n",
    "    \n",
    "    for num in range(1,number+1) :\n",
    "        current = num\n",
    "        while(current != 0) :\n",
    "            if (current % 10 == 3 or current % 10 == 6 or current % 10 == 9) :\n",
    "                count += 1\n",
    "            current = current // 10\n",
    "    return count\n",
    "\n",
    "solution_6_answer(number)"
   ]
  },
  {
   "cell_type": "code",
   "execution_count": 8,
   "metadata": {},
   "outputs": [
    {
     "data": {
      "text/plain": [
       "6"
      ]
     },
     "execution_count": 8,
     "metadata": {},
     "output_type": "execute_result"
    }
   ],
   "source": [
    "# 1차 - 문제7\n",
    "\n",
    "scores = [650, 722, 914, 558, 714, 803, 650, 679, 669, 800]\n",
    "\n",
    "def solution_7(scores) :\n",
    "    count = 0\n",
    "    \n",
    "    for score in scores :\n",
    "        if(score >= 650 and score < 800) :\n",
    "            count += 1\n",
    "            \n",
    "    return count \n",
    "\n",
    "solution_7(scores)"
   ]
  },
  {
   "cell_type": "code",
   "execution_count": 19,
   "metadata": {},
   "outputs": [
    {
     "data": {
      "text/plain": [
       "False"
      ]
     },
     "execution_count": 19,
     "metadata": {},
     "output_type": "execute_result"
    }
   ],
   "source": [
    "# 1차 - 문제8\n",
    "\n",
    "sentence1 = \"never odd or even\"\n",
    "sentence2 = 'palindrome'\n",
    "sentence3 = 'noon'\n",
    "\n",
    "def solution_8(sentence) :\n",
    "    new = \"\"\n",
    "    for i in sentence.split(\" \") :\n",
    "        new = new + i\n",
    "\n",
    "    if (new[len(new)-1] == '.') :\n",
    "        right = len(new) - 2\n",
    "    else :\n",
    "        right = len(new) - 1\n",
    "        \n",
    "    left = 0\n",
    "    \n",
    "    for i in range(len(new)//2) :\n",
    "        if (new[left] != new[right]) :\n",
    "            return False\n",
    "        \n",
    "    return True\n",
    "\n",
    "solution_8(sentence2)\n"
   ]
  },
  {
   "cell_type": "code",
   "execution_count": 34,
   "metadata": {},
   "outputs": [
    {
     "data": {
      "text/plain": [
       "'sentence'"
      ]
     },
     "execution_count": 34,
     "metadata": {},
     "output_type": "execute_result"
    }
   ],
   "source": [
    "# 1차 - 문제9\n",
    "\n",
    "chracters = 'senteeeencccccceeee'\n",
    "\n",
    "def solution_9(chracters) :\n",
    "    new = ''\n",
    "    \n",
    "    for i in range(len(chracters)-1) :\n",
    "        if (chracters[i] != chracters[i+1]) :\n",
    "            new += chracters[i]\n",
    "    \n",
    "    new += chracters[len(chracters)-1]\n",
    "    return new\n",
    "\n",
    "solution_9(chracters)"
   ]
  },
  {
   "cell_type": "code",
   "execution_count": 36,
   "metadata": {},
   "outputs": [
    {
     "data": {
      "text/plain": [
       "9"
      ]
     },
     "execution_count": 36,
     "metadata": {},
     "output_type": "execute_result"
    }
   ],
   "source": [
    "# 1차 - 문제10\n",
    "\n",
    "data1 = [1, 2, 3, 4, 5, 6, 7, 8, 9, 10]\n",
    "data2 = [1, 1, 1, 1, 1, 1, 1, 1, 1, 10]\n",
    "\n",
    "def solution_10(data) :\n",
    "    sum = 0\n",
    "    for i in data :\n",
    "        sum += i\n",
    "    avg = sum / len(data)\n",
    "    \n",
    "    count = 0\n",
    "    for i in data :\n",
    "        if (i <= avg) :\n",
    "            count += 1\n",
    "    \n",
    "    return count\n",
    "\n",
    "solution_10(data2)"
   ]
  }
 ],
 "metadata": {
  "kernelspec": {
   "display_name": "base",
   "language": "python",
   "name": "python3"
  },
  "language_info": {
   "codemirror_mode": {
    "name": "ipython",
    "version": 3
   },
   "file_extension": ".py",
   "mimetype": "text/x-python",
   "name": "python",
   "nbconvert_exporter": "python",
   "pygments_lexer": "ipython3",
   "version": "3.7.3"
  },
  "orig_nbformat": 4
 },
 "nbformat": 4,
 "nbformat_minor": 2
}
