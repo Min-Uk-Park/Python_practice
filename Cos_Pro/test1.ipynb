{
 "cells": [
  {
   "cell_type": "code",
   "execution_count": 3,
   "metadata": {},
   "outputs": [
    {
     "data": {
      "text/plain": [
       "[1, 2, 0, 2, 1, 0]"
      ]
     },
     "execution_count": 3,
     "metadata": {},
     "output_type": "execute_result"
    }
   ],
   "source": [
    "# 1차 - 문제 1\n",
    "\n",
    "shirt_size = [\"XS\", \"S\", \"M\", \"L\", \"XL\", \"XXL\"]\n",
    "\n",
    "\n",
    "\n",
    "def solution_1(shirt_size) :\n",
    "    count = [0,0,0,0,0,0]\n",
    "    \n",
    "    student_size = [\"XS\", \"XL\", \"S\", \"L\", \"L\", \"S\"]\n",
    "    \n",
    "    for num,size in enumerate(shirt_size) :\n",
    "        for studentSize in student_size :\n",
    "            if(size == studentSize) :\n",
    "                count[num] = count[num] + 1  \n",
    "                \n",
    "    return count\n",
    "                \n",
    "        \n",
    "        \n",
    "    return count_list\n",
    "\n",
    "count = solution(shirt_size)\n",
    "count"
   ]
  },
  {
   "cell_type": "code",
   "execution_count": 11,
   "metadata": {},
   "outputs": [
    {
     "data": {
      "text/plain": [
       "92055"
      ]
     },
     "execution_count": 11,
     "metadata": {},
     "output_type": "execute_result"
    }
   ],
   "source": [
    "# 1차 - 문제2\n",
    "\n",
    "\n",
    "\n",
    "def solution_2(price, grade) :\n",
    "    dict = {\"S\" : 0.05,\"G\" : 0.1, \"V\" : 0.15}\n",
    "    \n",
    "    for gr, sale in zip(dict.keys(),dict.values()) :\n",
    "        if(grade == gr) :\n",
    "            sale_price = price * (1-sale)\n",
    "    \n",
    "    return int(sale_price)\n",
    "\n",
    "salePrice = solution_2(96900,\"S\")\n",
    "salePrice"
   ]
  },
  {
   "cell_type": "code",
   "execution_count": 13,
   "metadata": {},
   "outputs": [
    {
     "data": {
      "text/plain": [
       "31"
      ]
     },
     "execution_count": 13,
     "metadata": {},
     "output_type": "execute_result"
    }
   ],
   "source": [
    "# 1차 - 문제3\n",
    "\n",
    "def fun_a(month, day) :\n",
    "    dayList = [31, 28, 31, 30, 31, 30, 31, 31, 30, 31, 30, 31]\n",
    "    if(month == 1) :\n",
    "        return day - 1\n",
    "    \n",
    "    else :\n",
    "        d = day - 1\n",
    "        for i in dayList[:month-1] :\n",
    "            d += i\n",
    "        return d\n",
    "\n",
    "def solution_3(startMon,startDay,endMon,endDay) :\n",
    "    a = fun_a(startMon,startDay) \n",
    "    b = fun_a(endMon,endDay) \n",
    "    \n",
    "    return b - a\n",
    "\n",
    "result = solution_3(1,2,2,2)\n",
    "result"
   ]
  },
  {
   "cell_type": "code",
   "execution_count": 36,
   "metadata": {},
   "outputs": [
    {
     "data": {
      "text/plain": [
       "2"
      ]
     },
     "execution_count": 36,
     "metadata": {},
     "output_type": "execute_result"
    }
   ],
   "source": [
    "# 1차 - 문제4\n",
    "\n",
    "def solution_4(arr) :\n",
    "    nat_arr = [1, 2, 3, 4, 5, 6, 7, 8, 9]\n",
    "    num_dict = {1 : 0, 2 : 0, 3: 0, 4 : 0, 5 : 0, 6: 0, 7: 0, 8 : 0, 9: 0}\n",
    "    \n",
    "    \n",
    "    for count, num in enumerate(nat_arr) :\n",
    "        for n in arr :\n",
    "            if (num == n) :\n",
    "                num_dict[num] = num_dict[num] + 1\n",
    "    \n",
    "    sort_count = list(num_dict.values())\n",
    "    sort_count.sort()       \n",
    "    \n",
    "    for i in sort_count :\n",
    "        if (i > 0) :\n",
    "            min = i\n",
    "            break\n",
    "        \n",
    "    max = sort_count[8]\n",
    "    \n",
    "    return max // min\n",
    "    \n",
    "    \n",
    "solution_4([1,2,3,3,1,3,3,2,3,2])\n",
    "\n",
    "\n"
   ]
  }
 ],
 "metadata": {
  "kernelspec": {
   "display_name": "base",
   "language": "python",
   "name": "python3"
  },
  "language_info": {
   "codemirror_mode": {
    "name": "ipython",
    "version": 3
   },
   "file_extension": ".py",
   "mimetype": "text/x-python",
   "name": "python",
   "nbconvert_exporter": "python",
   "pygments_lexer": "ipython3",
   "version": "3.7.3"
  },
  "orig_nbformat": 4
 },
 "nbformat": 4,
 "nbformat_minor": 2
}
