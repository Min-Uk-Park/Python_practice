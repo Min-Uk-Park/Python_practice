{
 "cells": [
  {
   "cell_type": "code",
   "execution_count": 14,
   "metadata": {},
   "outputs": [],
   "source": [
    "# DataFrame 연습\n",
    "import numpy as np\n",
    "import pandas as pd\n",
    "import os,sys,re\n",
    "import matplotlib.pyplot as plt # 차트 생성 위한  라이브러리\n",
    "# os.getcwd()\n",
    "sys.path.append('c:/test/issue')\n",
    "import usecsv\n",
    "os.chdir('c:/test/issue')\n",
    "plt.rcParams['font.family']='Malgun Gothic' # 차트에서 한글 깨짐 방지\n",
    "plt.rcParams['axes.unicode_minus'] = False  # 차트에서 -기호 깨짐 방지\n"
   ]
  },
  {
   "cell_type": "code",
   "execution_count": 42,
   "metadata": {},
   "outputs": [],
   "source": [
    "issue_df = pd.read_csv('issue_data.csv',encoding='cp949',thousands=',')"
   ]
  },
  {
   "cell_type": "code",
   "execution_count": 43,
   "metadata": {},
   "outputs": [
    {
     "data": {
      "text/html": [
       "<div>\n",
       "<style scoped>\n",
       "    .dataframe tbody tr th:only-of-type {\n",
       "        vertical-align: middle;\n",
       "    }\n",
       "\n",
       "    .dataframe tbody tr th {\n",
       "        vertical-align: top;\n",
       "    }\n",
       "\n",
       "    .dataframe thead th {\n",
       "        text-align: right;\n",
       "    }\n",
       "</style>\n",
       "<table border=\"1\" class=\"dataframe\">\n",
       "  <thead>\n",
       "    <tr style=\"text-align: right;\">\n",
       "      <th></th>\n",
       "      <th>일시</th>\n",
       "      <th>지점</th>\n",
       "      <th>폭염여부(O/X)</th>\n",
       "      <th>최고체감온도(°C)</th>\n",
       "      <th>최고기온(°C)</th>\n",
       "      <th>평균기온(°C)</th>\n",
       "      <th>최저기온(°C)</th>\n",
       "      <th>평균상대습도(%)</th>\n",
       "      <th>폭염특보(O/X)</th>\n",
       "      <th>폭염영향예보(단계)</th>\n",
       "      <th>열대야(O/X)</th>\n",
       "      <th>자외선지수(단계)</th>\n",
       "    </tr>\n",
       "  </thead>\n",
       "  <tbody>\n",
       "    <tr>\n",
       "      <th>0</th>\n",
       "      <td>2019-05-01</td>\n",
       "      <td>북강릉(104)</td>\n",
       "      <td>X</td>\n",
       "      <td>20.8</td>\n",
       "      <td>20.8</td>\n",
       "      <td>15.4</td>\n",
       "      <td>9.4</td>\n",
       "      <td>66.6</td>\n",
       "      <td>X</td>\n",
       "      <td></td>\n",
       "      <td>X</td>\n",
       "      <td>높음</td>\n",
       "    </tr>\n",
       "    <tr>\n",
       "      <th>1</th>\n",
       "      <td>2019-05-01</td>\n",
       "      <td>동해(106)</td>\n",
       "      <td>X</td>\n",
       "      <td>19.5</td>\n",
       "      <td>18.1</td>\n",
       "      <td>13.6</td>\n",
       "      <td>9.8</td>\n",
       "      <td>82.4</td>\n",
       "      <td>X</td>\n",
       "      <td></td>\n",
       "      <td>X</td>\n",
       "      <td>낮음</td>\n",
       "    </tr>\n",
       "    <tr>\n",
       "      <th>2</th>\n",
       "      <td>2019-05-01</td>\n",
       "      <td>서울(108)</td>\n",
       "      <td>X</td>\n",
       "      <td>21.9</td>\n",
       "      <td>22.2</td>\n",
       "      <td>16.4</td>\n",
       "      <td>11.2</td>\n",
       "      <td>48.9</td>\n",
       "      <td>X</td>\n",
       "      <td></td>\n",
       "      <td>X</td>\n",
       "      <td>높음</td>\n",
       "    </tr>\n",
       "    <tr>\n",
       "      <th>3</th>\n",
       "      <td>2019-05-01</td>\n",
       "      <td>인천(112)</td>\n",
       "      <td>X</td>\n",
       "      <td>18.6</td>\n",
       "      <td>18.5</td>\n",
       "      <td>14.2</td>\n",
       "      <td>10.7</td>\n",
       "      <td>65.0</td>\n",
       "      <td>X</td>\n",
       "      <td></td>\n",
       "      <td>X</td>\n",
       "      <td>높음</td>\n",
       "    </tr>\n",
       "    <tr>\n",
       "      <th>4</th>\n",
       "      <td>2019-05-01</td>\n",
       "      <td>원주(114)</td>\n",
       "      <td>X</td>\n",
       "      <td>21.3</td>\n",
       "      <td>22.8</td>\n",
       "      <td>16.0</td>\n",
       "      <td>9.9</td>\n",
       "      <td>55.8</td>\n",
       "      <td>X</td>\n",
       "      <td></td>\n",
       "      <td>X</td>\n",
       "      <td>낮음</td>\n",
       "    </tr>\n",
       "  </tbody>\n",
       "</table>\n",
       "</div>"
      ],
      "text/plain": [
       "           일시        지점 폭염여부(O/X)  최고체감온도(°C)  최고기온(°C)  평균기온(°C)  최저기온(°C)  \\\n",
       "0  2019-05-01  북강릉(104)         X        20.8      20.8      15.4       9.4   \n",
       "1  2019-05-01   동해(106)         X        19.5      18.1      13.6       9.8   \n",
       "2  2019-05-01   서울(108)         X        21.9      22.2      16.4      11.2   \n",
       "3  2019-05-01   인천(112)         X        18.6      18.5      14.2      10.7   \n",
       "4  2019-05-01   원주(114)         X        21.3      22.8      16.0       9.9   \n",
       "\n",
       "   평균상대습도(%) 폭염특보(O/X) 폭염영향예보(단계) 열대야(O/X) 자외선지수(단계)  \n",
       "0       66.6         X                   X        높음  \n",
       "1       82.4         X                   X        낮음  \n",
       "2       48.9         X                   X        높음  \n",
       "3       65.0         X                   X        높음  \n",
       "4       55.8         X                   X        낮음  "
      ]
     },
     "execution_count": 43,
     "metadata": {},
     "output_type": "execute_result"
    }
   ],
   "source": [
    "issue_df.head()"
   ]
  },
  {
   "cell_type": "code",
   "execution_count": 126,
   "metadata": {},
   "outputs": [],
   "source": [
    "issue_df.columns = ['일시', '지점', '폭염여부', '최고체감온도', '최고기온', '평균기온',\n",
    "       '최저기온', '평균상대습도', '폭염특보', '폭염영향예보', '열대야',\n",
    "       '자외선지수']"
   ]
  },
  {
   "cell_type": "code",
   "execution_count": 45,
   "metadata": {},
   "outputs": [
    {
     "data": {
      "text/html": [
       "<div>\n",
       "<style scoped>\n",
       "    .dataframe tbody tr th:only-of-type {\n",
       "        vertical-align: middle;\n",
       "    }\n",
       "\n",
       "    .dataframe tbody tr th {\n",
       "        vertical-align: top;\n",
       "    }\n",
       "\n",
       "    .dataframe thead th {\n",
       "        text-align: right;\n",
       "    }\n",
       "</style>\n",
       "<table border=\"1\" class=\"dataframe\">\n",
       "  <thead>\n",
       "    <tr style=\"text-align: right;\">\n",
       "      <th></th>\n",
       "      <th>일시</th>\n",
       "      <th>지점</th>\n",
       "      <th>폭염여부</th>\n",
       "      <th>최고체감온도</th>\n",
       "      <th>최고기온</th>\n",
       "      <th>평균기온</th>\n",
       "      <th>최저기온</th>\n",
       "      <th>평균상대습도</th>\n",
       "      <th>폭염특보</th>\n",
       "      <th>폭염영향예보</th>\n",
       "      <th>열대야</th>\n",
       "      <th>자외선지수</th>\n",
       "    </tr>\n",
       "  </thead>\n",
       "  <tbody>\n",
       "    <tr>\n",
       "      <th>0</th>\n",
       "      <td>2019-05-01</td>\n",
       "      <td>북강릉(104)</td>\n",
       "      <td>X</td>\n",
       "      <td>20.8</td>\n",
       "      <td>20.8</td>\n",
       "      <td>15.4</td>\n",
       "      <td>9.4</td>\n",
       "      <td>66.6</td>\n",
       "      <td>X</td>\n",
       "      <td></td>\n",
       "      <td>X</td>\n",
       "      <td>높음</td>\n",
       "    </tr>\n",
       "    <tr>\n",
       "      <th>1</th>\n",
       "      <td>2019-05-01</td>\n",
       "      <td>동해(106)</td>\n",
       "      <td>X</td>\n",
       "      <td>19.5</td>\n",
       "      <td>18.1</td>\n",
       "      <td>13.6</td>\n",
       "      <td>9.8</td>\n",
       "      <td>82.4</td>\n",
       "      <td>X</td>\n",
       "      <td></td>\n",
       "      <td>X</td>\n",
       "      <td>낮음</td>\n",
       "    </tr>\n",
       "    <tr>\n",
       "      <th>2</th>\n",
       "      <td>2019-05-01</td>\n",
       "      <td>서울(108)</td>\n",
       "      <td>X</td>\n",
       "      <td>21.9</td>\n",
       "      <td>22.2</td>\n",
       "      <td>16.4</td>\n",
       "      <td>11.2</td>\n",
       "      <td>48.9</td>\n",
       "      <td>X</td>\n",
       "      <td></td>\n",
       "      <td>X</td>\n",
       "      <td>높음</td>\n",
       "    </tr>\n",
       "    <tr>\n",
       "      <th>3</th>\n",
       "      <td>2019-05-01</td>\n",
       "      <td>인천(112)</td>\n",
       "      <td>X</td>\n",
       "      <td>18.6</td>\n",
       "      <td>18.5</td>\n",
       "      <td>14.2</td>\n",
       "      <td>10.7</td>\n",
       "      <td>65.0</td>\n",
       "      <td>X</td>\n",
       "      <td></td>\n",
       "      <td>X</td>\n",
       "      <td>높음</td>\n",
       "    </tr>\n",
       "    <tr>\n",
       "      <th>4</th>\n",
       "      <td>2019-05-01</td>\n",
       "      <td>원주(114)</td>\n",
       "      <td>X</td>\n",
       "      <td>21.3</td>\n",
       "      <td>22.8</td>\n",
       "      <td>16.0</td>\n",
       "      <td>9.9</td>\n",
       "      <td>55.8</td>\n",
       "      <td>X</td>\n",
       "      <td></td>\n",
       "      <td>X</td>\n",
       "      <td>낮음</td>\n",
       "    </tr>\n",
       "  </tbody>\n",
       "</table>\n",
       "</div>"
      ],
      "text/plain": [
       "           일시        지점 폭염여부  최고체감온도  최고기온  평균기온  최저기온  평균상대습도 폭염특보 폭염영향예보  \\\n",
       "0  2019-05-01  북강릉(104)    X    20.8  20.8  15.4   9.4    66.6    X          \n",
       "1  2019-05-01   동해(106)    X    19.5  18.1  13.6   9.8    82.4    X          \n",
       "2  2019-05-01   서울(108)    X    21.9  22.2  16.4  11.2    48.9    X          \n",
       "3  2019-05-01   인천(112)    X    18.6  18.5  14.2  10.7    65.0    X          \n",
       "4  2019-05-01   원주(114)    X    21.3  22.8  16.0   9.9    55.8    X          \n",
       "\n",
       "  열대야 자외선지수  \n",
       "0   X    높음  \n",
       "1   X    낮음  \n",
       "2   X    높음  \n",
       "3   X    높음  \n",
       "4   X    낮음  "
      ]
     },
     "execution_count": 45,
     "metadata": {},
     "output_type": "execute_result"
    }
   ],
   "source": [
    "issue_df.head()"
   ]
  },
  {
   "cell_type": "code",
   "execution_count": null,
   "metadata": {},
   "outputs": [],
   "source": [
    "# issue_df[(issue_df['지점'].str.contains('전주')) & (issue_df['폭염여부'] == 'O')]\n"
   ]
  },
  {
   "cell_type": "code",
   "execution_count": 152,
   "metadata": {},
   "outputs": [],
   "source": [
    "\n",
    "ss = issue_df['일시'].str[2:4] + issue_df['일시'].str[5:7]\n",
    "\n",
    "issue_df['년월'] = ss # 새로운 칼럼 생성할 때 value는 시리즈 형태만 가능한지 아니면 리스트도 가능한지??★\n",
    "\n",
    "# issue_df\n",
    "\n",
    "jeonju_issue_df = issue_df[(issue_df['지점'].str.contains('전주')) & (issue_df['폭염여부'] == 'O')]\n",
    "\n",
    "\n",
    "\n"
   ]
  },
  {
   "cell_type": "code",
   "execution_count": 155,
   "metadata": {},
   "outputs": [
    {
     "data": {
      "text/plain": [
       "1907    12\n",
       "1908    18\n",
       "1909     2\n",
       "2006     2\n",
       "2008    23\n",
       "2107    17\n",
       "2108     7\n",
       "2206     1\n",
       "2207    11\n",
       "2208     9\n",
       "2209     1\n",
       "Name: 년월, dtype: int64"
      ]
     },
     "execution_count": 155,
     "metadata": {},
     "output_type": "execute_result"
    }
   ],
   "source": [
    "plot_data = jeonju_issue_df['년월'].value_counts()\n",
    "plot_data = plot_data.sort_index(ascending = True)\n",
    "\n",
    "plot_data"
   ]
  },
  {
   "cell_type": "code",
   "execution_count": 164,
   "metadata": {},
   "outputs": [
    {
     "data": {
      "image/png": "[encoded data removed]",
      "text/plain": [
       "<Figure size 432x288 with 1 Axes>"
      ]
     },
     "metadata": {
      "needs_background": "light"
     },
     "output_type": "display_data"
    }
   ],
   "source": [
    "plt.title('전주 폭염발생 현황')\n",
    "plt.xlabel('년월')\n",
    "plt.ylabel('폭염횟수')\n",
    "plt.bar(plot_data.index,plot_data.values)\n",
    "plt.show() "
   ]
  },
  {
   "cell_type": "code",
   "execution_count": 165,
   "metadata": {},
   "outputs": [
    {
     "data": {
      "image/png": "[encoded data removed]",
      "text/plain": [
       "<Figure size 432x288 with 1 Axes>"
      ]
     },
     "metadata": {
      "needs_background": "light"
     },
     "output_type": "display_data"
    }
   ],
   "source": [
    "plt.title('전주 폭염발생 현황')\n",
    "plt.xlabel('년월')\n",
    "plt.ylabel('폭염횟수')\n",
    "plt.plot(plot_data.index,plot_data.values)\n",
    "plt.show() "
   ]
  }
 ],
 "metadata": {
  "kernelspec": {
   "display_name": "base",
   "language": "python",
   "name": "python3"
  },
  "language_info": {
   "codemirror_mode": {
    "name": "ipython",
    "version": 3
   },
   "file_extension": ".py",
   "mimetype": "text/x-python",
   "name": "python",
   "nbconvert_exporter": "python",
   "pygments_lexer": "ipython3",
   "version": "3.7.3"
  },
  "orig_nbformat": 4
 },
 "nbformat": 4,
 "nbformat_minor": 2
}
