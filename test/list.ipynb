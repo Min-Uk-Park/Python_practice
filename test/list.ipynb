{
 "cells": [
  {
   "cell_type": "code",
   "execution_count": 14,
   "metadata": {},
   "outputs": [
    {
     "data": {
      "text/plain": [
       "[[1, 2, 3], 'a', 'b', 'cde']"
      ]
     },
     "execution_count": 14,
     "metadata": {},
     "output_type": "execute_result"
    }
   ],
   "source": [
    "# 빈 리스트 만들기\n",
    "a = []\n",
    "a = list()\n",
    "\n",
    "a = [1,2,3,'a','b','cde'] # 각 요소의 자료형이 혼합으로 사용될 수 있다.\n",
    "\n",
    "a = [[1,2,3],'a','b','cde'] # 리스트 요소에 리스트다 올 수 있다.\n",
    "\n",
    "a"
   ]
  },
  {
   "cell_type": "code",
   "execution_count": 26,
   "metadata": {},
   "outputs": [
    {
     "data": {
      "text/plain": [
       "2"
      ]
     },
     "execution_count": 26,
     "metadata": {},
     "output_type": "execute_result"
    }
   ],
   "source": [
    "score = [['kim','park','hong'],[85,95,100]] # 2차원 배열 생성 가능\n",
    "\n",
    "avg = score[1][0] + score[1][1] + score[1][2] # 배열 연산 가능\n",
    "\n",
    "score[1:2]\n",
    "score[1][1:]\n",
    "len(score) # 리스트 요소 개수 구하기 => 리스트 형태의 요소 2개\n"
   ]
  },
  {
   "cell_type": "code",
   "execution_count": 67,
   "metadata": {},
   "outputs": [],
   "source": [
    "# range를 사용한 리스트 생성\n",
    "aaa = list(range(0,10,2)) \n",
    "aaa_rand = []\n",
    "# 리스트 요소 추가\n",
    "aaa.append(10)\n",
    "\n",
    "# sort메소드 알아보기 위한 것이었는데 .sort()의 경우 return하지 않아 값이 나오지 않는다. 따라서 sorted(리스트명)를 사용하여 정렬한다.\n",
    "# aaa 리스트 요소 랜덤으로 부여\n",
    "import random as rd\n",
    "\n",
    "rd.seed(1) # 한 번 더(두 번째) 디버깅할 때부터 random값들이 고정된다.\n",
    "\n",
    "# for i in range(len(aaa)):\n",
    "#     aaa_rand.append(rd.choice(aaa))\n",
    "\n",
    "\n",
    "# sorted(aaa_rand)\n",
    "rd.shuffle(aaa) # aaa 리스트 무작위로 섞음\n",
    "aaa_rand = sorted(aaa)"
   ]
  },
  {
   "cell_type": "code",
   "execution_count": 84,
   "metadata": {},
   "outputs": [],
   "source": [
    "# aaa_rand.insert(1,99)\n",
    "# aaa_rand.remove(99)\n",
    "aaa_rand.extend([100,101])"
   ]
  },
  {
   "cell_type": "code",
   "execution_count": 85,
   "metadata": {},
   "outputs": [
    {
     "data": {
      "text/plain": [
       "101"
      ]
     },
     "execution_count": 85,
     "metadata": {},
     "output_type": "execute_result"
    }
   ],
   "source": [
    "aaa_rand.pop() # 마지막 요소 return하고 그 요소를 원본 배열에서 삭제한다."
   ]
  },
  {
   "cell_type": "code",
   "execution_count": 86,
   "metadata": {},
   "outputs": [
    {
     "data": {
      "text/plain": [
       "1"
      ]
     },
     "execution_count": 86,
     "metadata": {},
     "output_type": "execute_result"
    }
   ],
   "source": [
    "aaa_rand.count(2) # aaa_rand 리스트에서 2의 값을 갖는 요소의 개수가 몇 개인지 반환"
   ]
  },
  {
   "cell_type": "code",
   "execution_count": 92,
   "metadata": {},
   "outputs": [
    {
     "data": {
      "text/plain": [
       "{'kim': 5, 'park': 3, 'choi': 2}"
      ]
     },
     "execution_count": 92,
     "metadata": {},
     "output_type": "execute_result"
    }
   ],
   "source": [
    "# 문제) 우리 반 반장 선거 후보자가 candidate 리스트에 있다. 우리반 학생들의 투표내역이 vote리스트에 있다. 각 후보별 득표수를 구하라.\n",
    "\n",
    "# candidate = ['kim','park','choi']\n",
    "# vote = ['kim','kim','choi','park','park','park','kim','kim','kim','choi']\n",
    "\n",
    "# Ans 1)\n",
    "# candidate = ['kim','park','choi']\n",
    "# vote = ['kim','kim','choi','park','park','park','kim','kim','kim','choi']\n",
    "\n",
    "# cd_count = {} # candidate 득표수(count)\n",
    "\n",
    "# for i in vote:\n",
    "#     count = 1\n",
    "#     if i in cd_count:\n",
    "#         cd_count[i][0]=  cd_count[i][0] + count\n",
    "#     else:\n",
    "#         cd_count[i] = [count]\n",
    "    \n",
    "# cd_count\n",
    "\n",
    "# Ans2)\n",
    "candidate = ['kim','park','choi']\n",
    "vote = ['kim','kim','choi','park','park','park','kim','kim','kim','choi']\n",
    "# count = [['kim',0],['park',0],['choi',0]]\n",
    "count = {'kim':0,'park':0,'choi':0}\n",
    "\n",
    "\n",
    "for i in vote:\n",
    "    \n",
    "    count[i]+=1\n",
    "    \n",
    "count"
   ]
  },
  {
   "cell_type": "code",
   "execution_count": null,
   "metadata": {},
   "outputs": [],
   "source": [
    "# ??????? 원장님이 하신 방법은??"
   ]
  }
 ],
 "metadata": {
  "kernelspec": {
   "display_name": "base",
   "language": "python",
   "name": "python3"
  },
  "language_info": {
   "codemirror_mode": {
    "name": "ipython",
    "version": 3
   },
   "file_extension": ".py",
   "mimetype": "text/x-python",
   "name": "python",
   "nbconvert_exporter": "python",
   "pygments_lexer": "ipython3",
   "version": "3.7.3"
  },
  "orig_nbformat": 4
 },
 "nbformat": 4,
 "nbformat_minor": 2
}
