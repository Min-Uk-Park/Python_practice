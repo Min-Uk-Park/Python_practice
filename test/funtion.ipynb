{
 "cells": [
  {
   "cell_type": "code",
   "execution_count": 1,
   "metadata": {},
   "outputs": [
    {
     "name": "stdout",
     "output_type": "stream",
     "text": [
      "parkminuk의 나이는 23이고 전공은 datacomunication입니다. \n"
     ]
    }
   ],
   "source": [
    "# \n",
    "def my_data(name,age,major):\n",
    "        print(f'{name}의 나이는 {age}이고 전공은 {major}입니다. ')\n",
    "\n",
    "a = 'parkminuk'\n",
    "b = 23\n",
    "c = 'datacomunication'\n",
    "\n",
    "my_data(a,b,c)"
   ]
  },
  {
   "cell_type": "code",
   "execution_count": 9,
   "metadata": {},
   "outputs": [
    {
     "name": "stdout",
     "output_type": "stream",
     "text": [
      "4\n"
     ]
    }
   ],
   "source": [
    "# 입력값 몇 개인지 모를 때\n",
    "\n",
    "# def count(x,list):\n",
    "#     c = 0\n",
    "#     for i in list:\n",
    "#         if i>x: c+=1\n",
    "        \n",
    "#     return c\n",
    "\n",
    "# num = count(80,[85,90,45,60,99,100,77]) # 입력값 두 개이다!! 80,'[85,90,45,60,99,100,77]' 리스트 덩어리가 한 개의 입력값으로 인식\n",
    "# print(num)\n",
    "\n",
    "def count(x,*tuple): # def count(x,list): 로 하면 error 발생!!\n",
    "    c = 0\n",
    "    # print(list) # 자료형 : 튜플\n",
    "    for i in tuple:\n",
    "        if i>x: c+=1\n",
    "        \n",
    "    return c\n",
    "\n",
    "num = count(80,85,90,45,60,99,100,77) # 입력값 여러개이다!!\n",
    "print(num)"
   ]
  },
  {
   "cell_type": "code",
   "execution_count": 14,
   "metadata": {},
   "outputs": [
    {
     "name": "stdout",
     "output_type": "stream",
     "text": [
      "{'app': 'vs code', 'phone': 'iphone13', 'resi': 'apt'}\n"
     ]
    }
   ],
   "source": [
    "# 매개변수의 개수가 많을 때 혹은 몇 개인지 모를 때는 '**매개변수'처럼 한다!!\n",
    "\n",
    "def fun1(**args):\n",
    "    print(args)\n",
    "    \n",
    "\n",
    "\n",
    "fun1(app = 'vs code',phone = 'iphone13',resi = 'apt')"
   ]
  },
  {
   "cell_type": "code",
   "execution_count": 19,
   "metadata": {},
   "outputs": [
    {
     "name": "stdout",
     "output_type": "stream",
     "text": [
      "51.7\n",
      "81.7\n"
     ]
    }
   ],
   "source": [
    "# 매개변수의 기본값 설정\n",
    "\n",
    "def score(kor,math,eng=0):\n",
    "    avg = (kor + math + eng)/3\n",
    "    \n",
    "    return avg\n",
    "\n",
    "avg = score(80,75) # eng라는 매개변수에 입력값이 없지만 error가 안난다! => why? eng = 0이라고 초기값을 주었기 때문\n",
    "print('{:.1f}'.format(avg))\n",
    "avg = score(80,75,90) \n",
    "print('{:.1f}'.format(avg))"
   ]
  },
  {
   "cell_type": "code",
   "execution_count": null,
   "metadata": {},
   "outputs": [],
   "source": [
    "# lambda함수"
   ]
  }
 ],
 "metadata": {
  "kernelspec": {
   "display_name": "base",
   "language": "python",
   "name": "python3"
  },
  "language_info": {
   "codemirror_mode": {
    "name": "ipython",
    "version": 3
   },
   "file_extension": ".py",
   "mimetype": "text/x-python",
   "name": "python",
   "nbconvert_exporter": "python",
   "pygments_lexer": "ipython3",
   "version": "3.7.3"
  },
  "orig_nbformat": 4
 },
 "nbformat": 4,
 "nbformat_minor": 2
}
