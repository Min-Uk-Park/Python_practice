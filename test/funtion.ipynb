{
 "cells": [
  {
   "cell_type": "code",
   "execution_count": 1,
   "metadata": {},
   "outputs": [
    {
     "name": "stdout",
     "output_type": "stream",
     "text": [
      "parkminuk의 나이는 23이고 전공은 datacomunication입니다. \n"
     ]
    }
   ],
   "source": [
    "# \n",
    "def my_data(name,age,major):\n",
    "        print(f'{name}의 나이는 {age}이고 전공은 {major}입니다. ')\n",
    "\n",
    "a = 'parkminuk'\n",
    "b = 23\n",
    "c = 'datacomunication'\n",
    "\n",
    "my_data(a,b,c)"
   ]
  },
  {
   "cell_type": "code",
   "execution_count": 9,
   "metadata": {},
   "outputs": [
    {
     "name": "stdout",
     "output_type": "stream",
     "text": [
      "4\n"
     ]
    }
   ],
   "source": [
    "# 입력값 몇 개인지 모를 때\n",
    "\n",
    "# def count(x,list):\n",
    "#     c = 0\n",
    "#     for i in list:\n",
    "#         if i>x: c+=1\n",
    "        \n",
    "#     return c\n",
    "\n",
    "# num = count(80,[85,90,45,60,99,100,77]) # 입력값 두 개이다!! 80,'[85,90,45,60,99,100,77]' 리스트 덩어리가 한 개의 입력값으로 인식\n",
    "# print(num)\n",
    "\n",
    "def count(x,*tuple): # def count(x,list): 로 하면 error 발생!!\n",
    "    c = 0\n",
    "    # print(list) # 자료형 : 튜플\n",
    "    for i in tuple:\n",
    "        if i>x: c+=1\n",
    "        \n",
    "    return c\n",
    "\n",
    "num = count(80,85,90,45,60,99,100,77) # 입력값 여러개이다!!\n",
    "print(num)"
   ]
  },
  {
   "cell_type": "code",
   "execution_count": 14,
   "metadata": {},
   "outputs": [
    {
     "name": "stdout",
     "output_type": "stream",
     "text": [
      "{'app': 'vs code', 'phone': 'iphone13', 'resi': 'apt'}\n"
     ]
    }
   ],
   "source": [
    "# 매개변수의 개수가 많을 때 혹은 몇 개인지 모를 때는 '**매개변수'처럼 한다!!\n",
    "\n",
    "def fun1(**args):\n",
    "    print(args)\n",
    "    \n",
    "\n",
    "\n",
    "fun1(app = 'vs code',phone = 'iphone13',resi = 'apt')"
   ]
  },
  {
   "cell_type": "code",
   "execution_count": 19,
   "metadata": {},
   "outputs": [
    {
     "name": "stdout",
     "output_type": "stream",
     "text": [
      "51.7\n",
      "81.7\n"
     ]
    }
   ],
   "source": [
    "# 매개변수의 기본값 설정\n",
    "\n",
    "def score(kor,math,eng=0):\n",
    "    avg = (kor + math + eng)/3\n",
    "    \n",
    "    return avg\n",
    "\n",
    "avg = score(80,75) # eng라는 매개변수에 입력값이 없지만 error가 안난다! => why? eng = 0이라고 초기값을 주었기 때문\n",
    "print('{:.1f}'.format(avg))\n",
    "avg = score(80,75,90) \n",
    "print('{:.1f}'.format(avg))"
   ]
  },
  {
   "cell_type": "code",
   "execution_count": 20,
   "metadata": {},
   "outputs": [
    {
     "name": "stdout",
     "output_type": "stream",
     "text": [
      "9\n"
     ]
    }
   ],
   "source": [
    "# lambda함수\n",
    "\n",
    "add = lambda a,b:a+b # add(함수명) = lambda a,b(매개변수):a+b(반환값)\n",
    "sum = add(5,4)\n",
    "print(sum)"
   ]
  },
  {
   "cell_type": "code",
   "execution_count": 31,
   "metadata": {},
   "outputs": [
    {
     "data": {
      "text/plain": [
       "[100, 51, 62, 53, 33, 5, 65, 97, 38, 49]"
      ]
     },
     "execution_count": 31,
     "metadata": {},
     "output_type": "execute_result"
    }
   ],
   "source": [
    "# 정렬함수 안에 option에 대해서 함수의 인수로 함수를 사용할 때 예시\n",
    "# 질문★\n",
    "import random\n",
    "\n",
    "random.seed(0)\n",
    "a = [random.randint(0,100) for i in range(10)]\n",
    "\n",
    "a.sort(key=lambda x:x%10) # 나머지 기준으로 = 일의 자리수를 기준으로 오름차순 정렬\n",
    "a"
   ]
  },
  {
   "cell_type": "code",
   "execution_count": 41,
   "metadata": {},
   "outputs": [
    {
     "ename": "TypeError",
     "evalue": "'str' object is not callable",
     "output_type": "error",
     "traceback": [
      "\u001b[1;31m---------------------------------------------------------------------------\u001b[0m",
      "\u001b[1;31mTypeError\u001b[0m                                 Traceback (most recent call last)",
      "\u001b[1;32m<ipython-input-41-b97065cff26d>\u001b[0m in \u001b[0;36m<module>\u001b[1;34m\u001b[0m\n\u001b[0;32m      4\u001b[0m     \u001b[1;32mreturn\u001b[0m \u001b[0mscore\u001b[0m\u001b[1;33m[\u001b[0m\u001b[1;36m0\u001b[0m\u001b[1;33m]\u001b[0m\u001b[1;33m[\u001b[0m\u001b[1;36m0\u001b[0m\u001b[1;33m]\u001b[0m\u001b[1;33m\u001b[0m\u001b[1;33m\u001b[0m\u001b[0m\n\u001b[0;32m      5\u001b[0m \u001b[1;33m\u001b[0m\u001b[0m\n\u001b[1;32m----> 6\u001b[1;33m \u001b[0mscore\u001b[0m\u001b[1;33m.\u001b[0m\u001b[0msort\u001b[0m\u001b[1;33m(\u001b[0m\u001b[0mkey\u001b[0m\u001b[1;33m=\u001b[0m\u001b[0mfuc\u001b[0m\u001b[1;33m(\u001b[0m\u001b[0mscore\u001b[0m\u001b[1;33m)\u001b[0m\u001b[1;33m)\u001b[0m\u001b[1;33m\u001b[0m\u001b[1;33m\u001b[0m\u001b[0m\n\u001b[0m",
      "\u001b[1;31mTypeError\u001b[0m: 'str' object is not callable"
     ]
    }
   ],
   "source": [
    "score = [['박민욱','A',88],['김민식','A+',100],['홍길동','F',10]]\n",
    "\n",
    "def fuc(score):\n",
    "    return score[0][0]\n",
    "\n",
    "score.sort(key=fuc(score))\n"
   ]
  },
  {
   "cell_type": "code",
   "execution_count": 44,
   "metadata": {},
   "outputs": [
    {
     "ename": "TypeError",
     "evalue": "unsupported operand type(s) for %: 'list' and 'int'",
     "output_type": "error",
     "traceback": [
      "\u001b[1;31m---------------------------------------------------------------------------\u001b[0m",
      "\u001b[1;31mTypeError\u001b[0m                                 Traceback (most recent call last)",
      "\u001b[1;32m<ipython-input-44-22189ac7b8a6>\u001b[0m in \u001b[0;36m<module>\u001b[1;34m\u001b[0m\n\u001b[0;32m      3\u001b[0m \u001b[1;32mdef\u001b[0m \u001b[0mfun\u001b[0m\u001b[1;33m(\u001b[0m\u001b[1;33m)\u001b[0m\u001b[1;33m:\u001b[0m\u001b[1;33m\u001b[0m\u001b[1;33m\u001b[0m\u001b[0m\n\u001b[0;32m      4\u001b[0m     \u001b[1;32mreturn\u001b[0m \u001b[0ma\u001b[0m\u001b[1;33m%\u001b[0m\u001b[1;36m10\u001b[0m\u001b[1;33m\u001b[0m\u001b[1;33m\u001b[0m\u001b[0m\n\u001b[1;32m----> 5\u001b[1;33m \u001b[0ma\u001b[0m\u001b[1;33m.\u001b[0m\u001b[0msort\u001b[0m\u001b[1;33m(\u001b[0m\u001b[0mkey\u001b[0m\u001b[1;33m=\u001b[0m\u001b[0mfun\u001b[0m\u001b[1;33m(\u001b[0m\u001b[1;33m)\u001b[0m\u001b[1;33m)\u001b[0m \u001b[1;31m# 나머지 기준으로 = 일의 자리수를 기준으로 오름차순 정렬\u001b[0m\u001b[1;33m\u001b[0m\u001b[1;33m\u001b[0m\u001b[0m\n\u001b[0m\u001b[0;32m      6\u001b[0m \u001b[0ma\u001b[0m\u001b[1;33m\u001b[0m\u001b[1;33m\u001b[0m\u001b[0m\n",
      "\u001b[1;32m<ipython-input-44-22189ac7b8a6>\u001b[0m in \u001b[0;36mfun\u001b[1;34m()\u001b[0m\n\u001b[0;32m      2\u001b[0m \u001b[1;33m\u001b[0m\u001b[0m\n\u001b[0;32m      3\u001b[0m \u001b[1;32mdef\u001b[0m \u001b[0mfun\u001b[0m\u001b[1;33m(\u001b[0m\u001b[1;33m)\u001b[0m\u001b[1;33m:\u001b[0m\u001b[1;33m\u001b[0m\u001b[1;33m\u001b[0m\u001b[0m\n\u001b[1;32m----> 4\u001b[1;33m     \u001b[1;32mreturn\u001b[0m \u001b[0ma\u001b[0m\u001b[1;33m%\u001b[0m\u001b[1;36m10\u001b[0m\u001b[1;33m\u001b[0m\u001b[1;33m\u001b[0m\u001b[0m\n\u001b[0m\u001b[0;32m      5\u001b[0m \u001b[0ma\u001b[0m\u001b[1;33m.\u001b[0m\u001b[0msort\u001b[0m\u001b[1;33m(\u001b[0m\u001b[0mkey\u001b[0m\u001b[1;33m=\u001b[0m\u001b[0mfun\u001b[0m\u001b[1;33m(\u001b[0m\u001b[1;33m)\u001b[0m\u001b[1;33m)\u001b[0m \u001b[1;31m# 나머지 기준으로 = 일의 자리수를 기준으로 오름차순 정렬\u001b[0m\u001b[1;33m\u001b[0m\u001b[1;33m\u001b[0m\u001b[0m\n\u001b[0;32m      6\u001b[0m \u001b[0ma\u001b[0m\u001b[1;33m\u001b[0m\u001b[1;33m\u001b[0m\u001b[0m\n",
      "\u001b[1;31mTypeError\u001b[0m: unsupported operand type(s) for %: 'list' and 'int'"
     ]
    }
   ],
   "source": [
    "a = [random.randint(0,100) for i in range(10)]\n",
    "\n",
    "def fun():\n",
    "    return a % 10\n",
    "a.sort(key=fun()) # 나머지 기준으로 = 일의 자리수를 기준으로 오름차순 정렬\n",
    "a"
   ]
  }
 ],
 "metadata": {
  "kernelspec": {
   "display_name": "base",
   "language": "python",
   "name": "python3"
  },
  "language_info": {
   "codemirror_mode": {
    "name": "ipython",
    "version": 3
   },
   "file_extension": ".py",
   "mimetype": "text/x-python",
   "name": "python",
   "nbconvert_exporter": "python",
   "pygments_lexer": "ipython3",
   "version": "3.7.3"
  },
  "orig_nbformat": 4
 },
 "nbformat": 4,
 "nbformat_minor": 2
}
