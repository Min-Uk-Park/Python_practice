{
 "cells": [
  {
   "cell_type": "code",
   "execution_count": 7,
   "metadata": {},
   "outputs": [],
   "source": [
    "from bs4 import BeautifulSoup\n",
    "import re\n",
    "import pprint\n",
    "html_doc = \"\"\"\n",
    "<html>\n",
    "\t<head>\n",
    "\t\t<title>The Dormouse's story</title></head>\n",
    "\t<body>\n",
    "\t\t<p class=\"title\"><b>The Dormouse's story</b></p>\n",
    "\t\t<p class=\"story\">Once upon a time there were three little sisters; and their names were\n",
    "\t\t<a href=\"http://example.com/elsie\" class=\"sister\" id=\"link1\">Elsie</a>,\n",
    "\t\t<a href=\"http://example.com/lacie\" class=\"sister\" id=\"link2\">Lacie</a> and\n",
    "\t\t<a href=\"http://example.com/tillie\" class=\"sister\" id=\"link3\">Tillie</a>;\n",
    "\t\tand they lived at the bottom of a well.</p>\n",
    "\n",
    "\t\t<p class=\"story\">...</p>\n",
    "</body>\n",
    "</html>\n",
    "\"\"\""
   ]
  },
  {
   "cell_type": "code",
   "execution_count": 14,
   "metadata": {},
   "outputs": [
    {
     "name": "stdout",
     "output_type": "stream",
     "text": [
      "\n",
      "<html>\n",
      "<head>\n",
      "<title>The Dormouse's story</title></head>\n",
      "<body>\n",
      "<p class=\"title\"><b>The Dormouse's story</b></p>\n",
      "<p class=\"story\">Once upon a time there were three little sisters; and their names were\n",
      "\t\t<a class=\"sister\" href=\"http://example.com/elsie\" id=\"link1\">Elsie</a>,\n",
      "\t\t<a class=\"sister\" href=\"http://example.com/lacie\" id=\"link2\">Lacie</a> and\n",
      "\t\t<a class=\"sister\" href=\"http://example.com/tillie\" id=\"link3\">Tillie</a>;\n",
      "\t\tand they lived at the bottom of a well.</p>\n",
      "<p class=\"story\">...</p>\n",
      "</body>\n",
      "</html>\n",
      "\n"
     ]
    }
   ],
   "source": [
    "# html_doc을 파싱하기위한 soup 객체 생성\n",
    "soup = BeautifulSoup(html_doc, 'html.parser')\n",
    "pp = pprint.PrettyPrinter(indent=4)\n",
    "pp.pprint(soup)\n",
    "# 아래와 같다.\n",
    "# print(soup.prettify())\n",
    "\n",
    "# print(soup.find('a').text)  # find  find_all  select   select_one\n",
    "# print(re.findall(r'<a.+>(.+)</a>',html_doc)) # 위의 명령을 정규표현식으로~\n",
    "# soup.title\n",
    "# soup.title.name\n",
    "# soup.title.string\n",
    "# soup.title.parent.name\n",
    "# soup.p.name\n",
    "# soup.p['class'] # class는 속성이다!!\n",
    "# soup.a\n",
    "# soup.find_all('a') # soup.find_all('a').text를 하면 a태그의 모든 text가 보인다?? NO!!!\n",
    "\n",
    "## a태그의 모든 text 뽑아내려면 반복문 사용하면 가능! \"soup.find_all('a')\" 가 객체가 반복자료형이기 때문에 가능하다!\n",
    "## a_text = [i.text for i in soup.find_all('a')]\n",
    "## a_text\n",
    "    \n",
    "## soup.find_all('a',{'id':'link2'})   # soup.find_all('태그명',{'속성':'값'})\n",
    "# soup.find(id=\"link3\")   # soup.select('a[id=link2]')   #  soup.select('태그명[속성=값]')\n",
    "# for link in soup.find_all('a'):\n",
    "#     print(link.get('href'))\n",
    "# print(soup.get_text())\n",
    "\n",
    "# soup"
   ]
  },
  {
   "cell_type": "code",
   "execution_count": null,
   "metadata": {},
   "outputs": [],
   "source": []
  }
 ],
 "metadata": {
  "kernelspec": {
   "display_name": "base",
   "language": "python",
   "name": "python3"
  },
  "language_info": {
   "codemirror_mode": {
    "name": "ipython",
    "version": 3
   },
   "file_extension": ".py",
   "mimetype": "text/x-python",
   "name": "python",
   "nbconvert_exporter": "python",
   "pygments_lexer": "ipython3",
   "version": "3.7.3"
  },
  "orig_nbformat": 4
 },
 "nbformat": 4,
 "nbformat_minor": 2
}
