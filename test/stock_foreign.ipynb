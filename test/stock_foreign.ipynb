{
 "cells": [
  {
   "cell_type": "code",
   "execution_count": 49,
   "metadata": {},
   "outputs": [
    {
     "name": "stdout",
     "output_type": "stream",
     "text": [
      "거래종목코드 : 005930 , 거래종목이름 : 삼성전자  \n",
      "\n",
      "Empty DataFrame\n",
      "Columns: []\n",
      "Index: []\n"
     ]
    }
   ],
   "source": [
    "from pykrx import stock\n",
    "import pandas as pd\n",
    "from decimal import Decimal\n",
    "\n",
    "result = stock.get_market_ticker_list()\n",
    "\n",
    "\n",
    "# name = [stock.get_market_ticker_name(i) for i in result]    \n",
    "\n",
    "# for i in name:\n",
    "#     try:\n",
    "#         if i == '한국가스공사':\n",
    "#             print(i)\n",
    "#             print(stock.get_market_ticker_list(i))\n",
    "#     except:\n",
    "#         pass\n",
    "\n",
    "\n",
    "input_name = input()\n",
    "for i in result:\n",
    "    name = stock.get_market_ticker_name(i)\n",
    "    try:\n",
    "        if name == input_name:\n",
    "            find_code = i\n",
    "            print(f'거래종목코드 : {i} , 거래종목이름 : {name}  \\n')\n",
    "    except:\n",
    "        pass\n",
    "\n",
    "df1 = stock.get_market_ohlcv(\"20220701\", \"20230701\",find_code)\n",
    "df2 = stock.get_market_trading_volume_by_date(\"20230115\", \"20230122\",find_code)\n",
    "\n",
    "df = stock.get_market_trading_volume_by_date(\"20230101\", \"20230701\", find_code,etf=False,etn=False,elw=False,on='순매수',detail=False,freq='m')\n",
    "print(df.head())"
   ]
  }
 ],
 "metadata": {
  "kernelspec": {
   "display_name": "base",
   "language": "python",
   "name": "python3"
  },
  "language_info": {
   "codemirror_mode": {
    "name": "ipython",
    "version": 3
   },
   "file_extension": ".py",
   "mimetype": "text/x-python",
   "name": "python",
   "nbconvert_exporter": "python",
   "pygments_lexer": "ipython3",
   "version": "3.7.3"
  },
  "orig_nbformat": 4
 },
 "nbformat": 4,
 "nbformat_minor": 2
}
