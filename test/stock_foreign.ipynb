{
 "cells": [
  {
   "cell_type": "code",
   "execution_count": 3,
   "metadata": {},
   "outputs": [
    {
     "name": "stdout",
     "output_type": "stream",
     "text": [
      "종목명 : 삼성전자 / 종목코드 : 005930\n"
     ]
    }
   ],
   "source": [
    "from pykrx import stock\n",
    "import pandas as pd\n",
    "from decimal import Decimal\n",
    "import requests\n",
    "from bs4 import BeautifulSoup as bs\n",
    "\n",
    "\n",
    "\n",
    "# 종목명 입력하는 함수\n",
    "def fun1():\n",
    "    name = input('입력하세요: ')\n",
    "    return name\n",
    "\n",
    "# 종목명 -> 종목코드로 바꿔주는 함수\n",
    "def change(inname):\n",
    "    result = stock.get_market_ticker_list()\n",
    "    for listcode in result:\n",
    "        name = stock.get_market_ticker_name(listcode)\n",
    "       \n",
    "        if name == inname:\n",
    "            return name,listcode\n",
    "        \n",
    "        else:\n",
    "            continue\n",
    "        \n",
    "    return 0,0\n",
    "\n",
    "while(1):\n",
    "    # 종목명 입력 함수 호출\n",
    "    name = fun1()\n",
    "    # 종목명 종목코드로 바꿔주는 함수 호출\n",
    "    name,code = change(name)\n",
    "    \n",
    "    if (name==0) & (code==0):\n",
    "        print('종목명을 다시 입력하세요. ')\n",
    "        continue\n",
    "    \n",
    "    else:\n",
    "        break\n",
    "    \n",
    "print(f'종목명 : {name} / 종목코드 : {code}')"
   ]
  },
  {
   "cell_type": "code",
   "execution_count": 13,
   "metadata": {},
   "outputs": [
    {
     "data": {
      "text/plain": [
       "'https://finance.naver.com//item/frgn.naver?code=005930'"
      ]
     },
     "execution_count": 13,
     "metadata": {},
     "output_type": "execute_result"
    }
   ],
   "source": [
    "# code를 이용해서 해당 네이버 주식 페이지에서 투자자별 매매동향 -> 더보기란으로 들어가기\n",
    "\n",
    "\n",
    "naver_code_url = 'https://finance.naver.com/item/main.naver?code='+code\n",
    "\n",
    "response1 = requests.get(naver_code_url).text\n",
    "code_html = bs(response1,'html.parser')\n",
    "\n",
    "\n",
    "# code_html.select_one('html>body>div>div>div>div>div>a').parent\n",
    "  \n",
    "\n",
    "# purchasing_url = code_html.select_one('html>body>div>div>div>div>ul>li>a>span')\n",
    "# purchasing_url = 'https://finance.naver.com' + purchasing_url\n",
    "# purchasing_url\n",
    "# code_html\n",
    "purchasing_url = 'https://finance.naver.com/'+code_html.select_one('html>body>div>div>div>div>ul>li>a[class=\"tab4\"]').get('href')\n",
    "purchasing_url"
   ]
  },
  {
   "cell_type": "code",
   "execution_count": 17,
   "metadata": {},
   "outputs": [
    {
     "data": {
      "text/plain": [
       "'\\n\\n\\n\\n\\n네이버 :: 세상의 모든 지식, 네이버\\n\\n.error_content * {margin:0;padding:0;}\\n.error_content img{border:none;}\\n.error_content em {font-style:normal;}\\n.error_content {width:410px; margin:80px auto 0; padding:57px 0 0 0; font-size:12px; font-family:\"나눔고딕\", \"NanumGothic\", \"돋움\", Dotum, AppleGothic, Sans-serif; text-align:left; line-height:14px; background:url(https://ssl.pstatic.net/static/common/error/090610/bg_thumb.gif) no-repeat center top; white-space:nowrap;}\\n.error_content p{margin:0;}\\n.error_content .error_desc {margin-bottom:21px; overflow:hidden; text-align:center;}\\n.error_content .error_desc2 {margin-bottom:11px; padding-bottom:7px; color:#888; line-height:18px; border-bottom:1px solid #eee;}\\n.error_content .error_desc3 {clear:both; color:#888;}\\n.error_content .error_desc3 a {color:#004790; text-decoration:underline;}\\n.error_content .error_list_type {clear:both; float:left; width:410px; _width:428px; margin:0 0 18px 0; *margin:0 0 7px 0; padding-bottom:13px; font-size:13px; color:#000; line-height:18px; border-bottom:1px solid #eee;}\\n.error_content .error_list_type dt {float:left; width:60px; _width /**/:70px; padding-left:10px; background:url(https://ssl.pstatic.net/static/common/error/090610/bg_dot.gif) no-repeat 2px 8px;}\\n.error_content .error_list_type dd {float:left; width:336px; _width /**/:340px; padding:0 0 0 4px;}\\n.error_content .error_list_type dd span {color:#339900; letter-spacing:0;}\\n.error_content .error_list_type dd a{color:#339900;}\\n.error_content p.btn{margin:29px 0 100px; text-align:center;}\\n\\n\\n\\n\\n\\n\\n방문하시려는 페이지의 주소가 잘못 입력되었거나,\\n\\t\\t페이지의 주소가 변경 혹은 삭제되어 요청하신 페이지를 찾을 수 없습니다.\\n\\t\\t입력하신 주소가 정확한지 다시 한번 확인해 주시기 바랍니다.\\n\\t\\n관련 문의사항은 고객센터에 알려주시면 친절히 안내해드리겠습니다. 감사합니다.\\n\\n\\n\\n\\n\\n\\n\\n'"
      ]
     },
     "execution_count": 17,
     "metadata": {},
     "output_type": "execute_result"
    }
   ],
   "source": [
    "# 더보기란의 페이지에서 외국인의 순매수량 data 읽어오기\n",
    "\n",
    "response2 = requests.get(purchasing_url).text\n",
    "purchasing_html = bs(response2,'html.parser')\n",
    "# /html/body/div[3]/div[2]/div[2]/div[1]/div[2]/table[1]/tbody/tr[4]/td[7]/span\n",
    "purchasing_html\n",
    "\n",
    "\n",
    "\n"
   ]
  },
  {
   "cell_type": "code",
   "execution_count": 6,
   "metadata": {},
   "outputs": [
    {
     "data": {
      "text/plain": [
       "\n",
       "<!DOCTYPE HTML PUBLIC \"-//W3C//DTD HTML 4.01 Transitional//EN\" \"http://www.w3.org/TR/html4/loose.dtd\">\n",
       "\n",
       "<html>\n",
       "<head>\n",
       "<meta content=\"text/html; charset=utf-8\" http-equiv=\"Content-Type\"/>\n",
       "<title>네이버 :: 세상의 모든 지식, 네이버</title>\n",
       "<style type=\"text/css\">\n",
       ".error_content * {margin:0;padding:0;}\n",
       ".error_content img{border:none;}\n",
       ".error_content em {font-style:normal;}\n",
       ".error_content {width:410px; margin:80px auto 0; padding:57px 0 0 0; font-size:12px; font-family:\"나눔고딕\", \"NanumGothic\", \"돋움\", Dotum, AppleGothic, Sans-serif; text-align:left; line-height:14px; background:url(https://ssl.pstatic.net/static/common/error/090610/bg_thumb.gif) no-repeat center top; white-space:nowrap;}\n",
       ".error_content p{margin:0;}\n",
       ".error_content .error_desc {margin-bottom:21px; overflow:hidden; text-align:center;}\n",
       ".error_content .error_desc2 {margin-bottom:11px; padding-bottom:7px; color:#888; line-height:18px; border-bottom:1px solid #eee;}\n",
       ".error_content .error_desc3 {clear:both; color:#888;}\n",
       ".error_content .error_desc3 a {color:#004790; text-decoration:underline;}\n",
       ".error_content .error_list_type {clear:both; float:left; width:410px; _width:428px; margin:0 0 18px 0; *margin:0 0 7px 0; padding-bottom:13px; font-size:13px; color:#000; line-height:18px; border-bottom:1px solid #eee;}\n",
       ".error_content .error_list_type dt {float:left; width:60px; _width /**/:70px; padding-left:10px; background:url(https://ssl.pstatic.net/static/common/error/090610/bg_dot.gif) no-repeat 2px 8px;}\n",
       ".error_content .error_list_type dd {float:left; width:336px; _width /**/:340px; padding:0 0 0 4px;}\n",
       ".error_content .error_list_type dd span {color:#339900; letter-spacing:0;}\n",
       ".error_content .error_list_type dd a{color:#339900;}\n",
       ".error_content p.btn{margin:29px 0 100px; text-align:center;}\n",
       "</style>\n",
       "</head>\n",
       "<!-- ERROR -->\n",
       "<body>\n",
       "<div class=\"error_content\">\n",
       "<p class=\"error_desc\"><img alt=\"페이지를 찾을 수 없습니다.\" height=\"30\" src=\"https://ssl.pstatic.net/static/common/error/090610/txt_desc5.gif\" width=\"319\"/></p>\n",
       "<p class=\"error_desc2\">방문하시려는 페이지의 주소가 잘못 입력되었거나,<br/>\n",
       "\t\t페이지의 주소가 변경 혹은 삭제되어 요청하신 페이지를 찾을 수 없습니다.<br/>\n",
       "\t\t입력하신 주소가 정확한지 다시 한번 확인해 주시기 바랍니다.\n",
       "\t</p>\n",
       "<p class=\"error_desc3\">관련 문의사항은 <a href=\"https://help.naver.com/\" target=\"_blank\">고객센터</a>에 알려주시면 친절히 안내해드리겠습니다. 감사합니다.</p>\n",
       "<p class=\"btn\">\n",
       "<a href=\"javascript:history.back()\"><img alt=\"이전 페이지로\" height=\"35\" src=\"https://ssl.pstatic.net/static/common/error/090610/btn_prevpage.gif\" width=\"115\"/></a>\n",
       "<a href=\"https://finance.naver.com\"><img alt=\"증권홈으로\" height=\"35\" src=\"https://ssl.pstatic.net/static/nfinance/btn_home.gif\" width=\"115\"/></a>\n",
       "</p>\n",
       "</div>\n",
       "</body>\n",
       "</html>"
      ]
     },
     "execution_count": 6,
     "metadata": {},
     "output_type": "execute_result"
    }
   ],
   "source": [
    "# 더보기란의 페이지에서 외국인의 순매수량 data 읽어오기\n",
    "\n",
    "response2 = requests.get('https://finance.naver.com/item/frgn.naver?code=005930').text\n",
    "purchasing_html = bs(response2,'html.parser')\n",
    "# /html/body/div[3]/div[2]/div[2]/div[1]/div[2]/table[1]/tbody/tr[4]/td[7]/span\n",
    "purchasing_html \n",
    "\n",
    "# 여기서부터 왭에서 정보 크롤링 차단함!!!!!!!!!!!!!!!!!!!!!!\n",
    "\n",
    "\n"
   ]
  }
 ],
 "metadata": {
  "kernelspec": {
   "display_name": "base",
   "language": "python",
   "name": "python3"
  },
  "language_info": {
   "codemirror_mode": {
    "name": "ipython",
    "version": 3
   },
   "file_extension": ".py",
   "mimetype": "text/x-python",
   "name": "python",
   "nbconvert_exporter": "python",
   "pygments_lexer": "ipython3",
   "version": "3.7.3"
  },
  "orig_nbformat": 4
 },
 "nbformat": 4,
 "nbformat_minor": 2
}
