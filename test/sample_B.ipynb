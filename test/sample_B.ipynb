{
 "cells": [
  {
   "cell_type": "code",
   "execution_count": 4,
   "metadata": {},
   "outputs": [
    {
     "data": {
      "text/plain": [
       "['소상공인시장진흥공단_상가(상권)정보_전북_202112.csv',\n",
       " '소상공인시장진흥공단_상가(상권)정보_전북_202203.csv',\n",
       " '소상공인시장진흥공단_상가(상권)정보_전북_202206.csv',\n",
       " '소상공인시장진흥공단_상가(상권)정보_전북_202209.csv',\n",
       " '소상공인시장진흥공단_상가(상권)정보_전북_202303.csv']"
      ]
     },
     "execution_count": 4,
     "metadata": {},
     "output_type": "execute_result"
    }
   ],
   "source": [
    "import sys,re,os\n",
    "import folium\n",
    "from folium.plugins import MarkerCluster\n",
    "import pandas as pd\n",
    "import numpy as np\n",
    "import matplotlib.pyplot as plt\n",
    "import json\n",
    "\n",
    "plt.rcParams['font.family']='Malgun Gothic' # 차트에서 한글 깨짐 방지\n",
    "plt.rcParams['axes.unicode_minus'] = False  # 차트에서 -기호 깨짐 방지\n",
    "\n",
    "os.chdir('c:/test/jeonbuk_commercial_data/')\n"
   ]
  },
  {
   "cell_type": "code",
   "execution_count": 18,
   "metadata": {},
   "outputs": [
    {
     "data": {
      "text/html": [
       "<div>\n",
       "<style scoped>\n",
       "    .dataframe tbody tr th:only-of-type {\n",
       "        vertical-align: middle;\n",
       "    }\n",
       "\n",
       "    .dataframe tbody tr th {\n",
       "        vertical-align: top;\n",
       "    }\n",
       "\n",
       "    .dataframe thead th {\n",
       "        text-align: right;\n",
       "    }\n",
       "</style>\n",
       "<table border=\"1\" class=\"dataframe\">\n",
       "  <thead>\n",
       "    <tr style=\"text-align: right;\">\n",
       "      <th></th>\n",
       "      <th>2112</th>\n",
       "      <th>2203</th>\n",
       "      <th>2206</th>\n",
       "      <th>2209</th>\n",
       "      <th>2303</th>\n",
       "    </tr>\n",
       "  </thead>\n",
       "  <tbody>\n",
       "    <tr>\n",
       "      <th>송천</th>\n",
       "      <td>54</td>\n",
       "      <td>59</td>\n",
       "      <td>59</td>\n",
       "      <td>62</td>\n",
       "      <td>60</td>\n",
       "    </tr>\n",
       "    <tr>\n",
       "      <th>평화</th>\n",
       "      <td>30</td>\n",
       "      <td>31</td>\n",
       "      <td>31</td>\n",
       "      <td>33</td>\n",
       "      <td>42</td>\n",
       "    </tr>\n",
       "    <tr>\n",
       "      <th>효자</th>\n",
       "      <td>134</td>\n",
       "      <td>132</td>\n",
       "      <td>134</td>\n",
       "      <td>140</td>\n",
       "      <td>147</td>\n",
       "    </tr>\n",
       "    <tr>\n",
       "      <th>우아</th>\n",
       "      <td>53</td>\n",
       "      <td>56</td>\n",
       "      <td>57</td>\n",
       "      <td>53</td>\n",
       "      <td>69</td>\n",
       "    </tr>\n",
       "  </tbody>\n",
       "</table>\n",
       "</div>"
      ],
      "text/plain": [
       "    2112  2203  2206  2209  2303\n",
       "송천    54    59    59    62    60\n",
       "평화    30    31    31    33    42\n",
       "효자   134   132   134   140   147\n",
       "우아    53    56    57    53    69"
      ]
     },
     "execution_count": 18,
     "metadata": {},
     "output_type": "execute_result"
    }
   ],
   "source": [
    "def create_dongs_df(dongs,years):\n",
    "    dongs_df = pd.DataFrame(index=dongs)\n",
    "    for year in years:\n",
    "        filename = f'소상공인시장진흥공단_상가(상권)정보_전북_20{year}.csv'\n",
    "        df = pd.read_csv(filename,encoding='utf-8',thousands=',',low_memory=False)\n",
    "        df = df[['상호명',  '상권업종소분류명',  '시군구명', '행정동명',  '지번주소', \n",
    "                     '도로명', '도로명주소', '경도', '위도']]\n",
    "        df.columns = ['상호명',  '소분류명', '시군구명', '행정동명', '지번주소', '도로명', '도로명주소', '경도',\n",
    "               '위도']\n",
    "\n",
    "        df = df[(df['소분류명'].str.contains('편의점')) & df['시군구명'].str.contains('전주')] # 전주 데이터만 추출\n",
    "        \n",
    "        temp = []\n",
    "        for dong in dongs:\n",
    "            c = df[df['행정동명'].str.contains(dong)]['행정동명'].count()\n",
    "            temp.append(c)\n",
    "            \n",
    "        count_df = pd.DataFrame(temp,index=dongs)\n",
    "        count_df.columns = [year]\n",
    "        dongs_df = pd.merge(dongs_df,count_df,left_index=True,right_index=True,how='left')\n",
    "    return dongs_df\n",
    "\n",
    "dongs = input('전주지역의 동(행정구역)을 입력하세요. ').split()\n",
    "years = ['2112','2203','2206','2209','2303']\n",
    "create_dongs_df(dongs,years)"
   ]
  },
  {
   "cell_type": "code",
   "execution_count": 17,
   "metadata": {},
   "outputs": [
    {
     "data": {
      "text/html": [
       "<div>\n",
       "<style scoped>\n",
       "    .dataframe tbody tr th:only-of-type {\n",
       "        vertical-align: middle;\n",
       "    }\n",
       "\n",
       "    .dataframe tbody tr th {\n",
       "        vertical-align: top;\n",
       "    }\n",
       "\n",
       "    .dataframe thead th {\n",
       "        text-align: right;\n",
       "    }\n",
       "</style>\n",
       "<table border=\"1\" class=\"dataframe\">\n",
       "  <thead>\n",
       "    <tr style=\"text-align: right;\">\n",
       "      <th></th>\n",
       "      <th>0</th>\n",
       "    </tr>\n",
       "  </thead>\n",
       "  <tbody>\n",
       "    <tr>\n",
       "      <th>송천</th>\n",
       "      <td>12</td>\n",
       "    </tr>\n",
       "    <tr>\n",
       "      <th>효자</th>\n",
       "      <td>20</td>\n",
       "    </tr>\n",
       "    <tr>\n",
       "      <th>서신</th>\n",
       "      <td>32</td>\n",
       "    </tr>\n",
       "  </tbody>\n",
       "</table>\n",
       "</div>"
      ],
      "text/plain": [
       "     0\n",
       "송천  12\n",
       "효자  20\n",
       "서신  32"
      ]
     },
     "execution_count": 17,
     "metadata": {},
     "output_type": "execute_result"
    }
   ],
   "source": []
  }
 ],
 "metadata": {
  "kernelspec": {
   "display_name": "base",
   "language": "python",
   "name": "python3"
  },
  "language_info": {
   "codemirror_mode": {
    "name": "ipython",
    "version": 3
   },
   "file_extension": ".py",
   "mimetype": "text/x-python",
   "name": "python",
   "nbconvert_exporter": "python",
   "pygments_lexer": "ipython3",
   "version": "3.7.3"
  },
  "orig_nbformat": 4
 },
 "nbformat": 4,
 "nbformat_minor": 2
}
