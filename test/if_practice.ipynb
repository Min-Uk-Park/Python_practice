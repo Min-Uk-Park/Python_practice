{
 "cells": [
  {
   "cell_type": "code",
   "execution_count": 4,
   "metadata": {},
   "outputs": [
    {
     "name": "stdout",
     "output_type": "stream",
     "text": [
      "미\n"
     ]
    }
   ],
   "source": [
    "# if문 연습\n",
    "\n",
    "# 기본적인 if문\n",
    "# 수우미양가 출력해보기\n",
    "score = int(input('점수는 : '))\n",
    "\n",
    "if score>=90:\n",
    "    print('수')\n",
    "elif score>=80:\n",
    "    print('우')\n",
    "elif score>=70:\n",
    "    print('미')\n",
    "elif score>=60:\n",
    "    print('양')\n",
    "else:\n",
    "    print('가')\n"
   ]
  },
  {
   "cell_type": "code",
   "execution_count": null,
   "metadata": {},
   "outputs": [],
   "source": [
    "# 한 줄 if문\n",
    "score = int(input('점수는 : '))\n",
    "result = '합격' if score>=80 else '불합격'\n",
    "\n",
    "result"
   ]
  }
 ],
 "metadata": {
  "kernelspec": {
   "display_name": "base",
   "language": "python",
   "name": "python3"
  },
  "language_info": {
   "codemirror_mode": {
    "name": "ipython",
    "version": 3
   },
   "file_extension": ".py",
   "mimetype": "text/x-python",
   "name": "python",
   "nbconvert_exporter": "python",
   "pygments_lexer": "ipython3",
   "version": "3.7.3"
  },
  "orig_nbformat": 4
 },
 "nbformat": 4,
 "nbformat_minor": 2
}
