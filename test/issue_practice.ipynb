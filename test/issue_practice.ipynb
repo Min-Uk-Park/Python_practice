{
 "cells": [
  {
   "cell_type": "code",
   "execution_count": 7,
   "metadata": {},
   "outputs": [],
   "source": [
    "import csv,re,os,sys\n",
    "import pandas as pd\n",
    "# from tabulate import tabulate\n",
    "# print(os.getcwd())\n",
    "sys.path.append('c:/Users/LG/Desktop/Python_practice')\n",
    "import usecsv\n",
    "# sys.path.append('c:/test/issue')\n",
    "\n",
    "os.chdir('c:/test/issue')\n",
    "\n",
    "# print(os.listdir())\n",
    "# file = usecsv.opencsv('ISSUE_201905.xls')\n",
    "# file_a = []\n",
    "\n",
    "# for i in file:\n",
    "#     file_a.append(i[0].split('\\t'))\n",
    "\n",
    "# print(file_a[0])\n",
    "\n",
    "# final_file = pd.DataFrame(file_a)\n",
    "\n",
    "# final_file.columns = ['일시', '지점', '폭염여부', '최고체감온도', '최고기온', '평균기온', '최저기온', '평균상대습도', '폭염특보', '폭염영향예보', '열대야', '자외선지수']\n",
    "\n",
    "# final_file = final_file[1:]\n",
    "\n",
    "# print(final_file)\n"
   ]
  },
  {
   "cell_type": "code",
   "execution_count": 12,
   "metadata": {},
   "outputs": [],
   "source": [
    "list = os.listdir()\n",
    "\n",
    "filelist = [i for i in list if re.match('ISSUE_\\d{6}.xls',i)]\n",
    "\n",
    "# print(filelist)\n"
   ]
  },
  {
   "cell_type": "code",
   "execution_count": 13,
   "metadata": {},
   "outputs": [],
   "source": [
    "\n",
    "final_data = []\n",
    "n=0\n",
    "for i in filelist:\n",
    "    data=usecsv.opencsv(i)\n",
    "    for j in data[n:]:\n",
    "        final_data.append(j[0].split('\\t'))\n",
    "        n=1\n",
    "          \n",
    "\n",
    "# final_df = pd.DataFrame(final_data)\n",
    "\n",
    "# final_df.columns = '일시', '지점', '폭염여부', '최고체감온도', '최고기온',\\\n",
    "#     '평균기온', '최저기온', '평균상대습도', '폭염특보', '폭염영향예보', '열대야', '자외선지수'\n",
    "\n",
    "# final_df = final_df[1:]\n",
    "\n",
    "# final_df['지점'].str.contains('전주') # 리스트랑 다르게 for문 없이 모든 행 비교 가능\n",
    "\n",
    "# final_data[:10]"
   ]
  },
  {
   "cell_type": "code",
   "execution_count": null,
   "metadata": {},
   "outputs": [],
   "source": [
    "# jeonju_data = []\n",
    "# for i in final_data:\n",
    "#     if re.match('전주',i[1]):\n",
    "#         jeonju_data.append(i)\n",
    "        "
   ]
  },
  {
   "cell_type": "code",
   "execution_count": 16,
   "metadata": {},
   "outputs": [],
   "source": [
    "# usecsv.writecsv('issuejeonju4_data.csv',jeonju_data)\n",
    "final_data = usecsv.switch(final_data[:])"
   ]
  },
  {
   "cell_type": "code",
   "execution_count": 17,
   "metadata": {},
   "outputs": [
    {
     "data": {
      "text/plain": [
       "0.0"
      ]
     },
     "execution_count": 17,
     "metadata": {},
     "output_type": "execute_result"
    }
   ],
   "source": [
    "final_data[769][5] = float(0)\n",
    "float(final_data[769][5])"
   ]
  },
  {
   "cell_type": "code",
   "execution_count": null,
   "metadata": {},
   "outputs": [],
   "source": [
    "# 지역별 월별 평균기온과 폭염일수 알아보기\n",
    "local_month_issue = {}\n",
    "\n",
    "# for i in final_data[1:]:\n",
    "#     end = i[1].index('(')\n",
    "#     key = i[1][:end] + i[0][2:4]+i[0][5:7]\n",
    "#     issue_count = 1 if i[2] == 'O' else 0\n",
    "#     if key in local_month_issue:\n",
    "#         local_month_issue[key] = [local_month_issue[key][0]+i[5],local_month_issue[key][1]+1,local_month_issue[key][2]+issue_count]\n",
    "#     else:\n",
    "#         local_month_issue[key] = [float(i[5]),1,issue_count]\n",
    "# for i in final_data[1:]:\n",
    "#     end = i[1].index('(')\n",
    "#     key = i[1][:end] + i[0][2:4] + i[0][5:7]\n",
    "#     issue_count = 1 if i[2] == 'O' else 0\n",
    "#     if key in local_month_issue:\n",
    "#         local_month_issue[key] = [local_month_issue[key][0]+i[5],local_month_issue[key][1]+1,local_month_issue[key][2]+issue_count]\n",
    "#     else:\n",
    "#          local_month_issue[key] = [i[5],1,issue_count]\n",
    "    \n",
    "    \n"
   ]
  },
  {
   "cell_type": "code",
   "execution_count": 18,
   "metadata": {},
   "outputs": [],
   "source": [
    "# local_month_issue\n",
    "# 년,월,지역을 입력하면 지역,폭염일수,폭염일의 최고체감온도평균,열대야횟수를 보여준다.\n",
    "\n",
    "result_list = []\n",
    "show_data = {}\n",
    "year,month,local = input('년,월,지역을 입력. ').split()\n",
    "\n",
    "for i in final_data[1:]:\n",
    "    end = i[1].index('(')\n",
    "    key = i[1][:end] + i[0][2:4] + i[0][5:7]\n",
    "    \n",
    "    issue_count2 = 1 if i[2]=='O' else 0\n",
    "    temp = i[3] if i[2]=='O' else 0\n",
    "    hot_count = 1 if i[10] == 'O' else 0\n",
    "    \n",
    "    if key in show_data:\n",
    "        show_data[key][1] = show_data[key][1] + issue_count2\n",
    "        show_data[key][2] = show_data[key][2] + temp\n",
    "        show_data[key][3] = show_data[key][3] + hot_count\n",
    "    else:\n",
    "        show_data[key] = [key[:end],issue_count2,temp,hot_count]\n",
    "    \n",
    "\n",
    "\n",
    "enter_key = local + year[2:5] + month\n",
    "# print(enter_key)\n",
    "\n",
    "for i,j in zip(show_data.keys(),show_data.values()):\n",
    "    try:\n",
    "        if enter_key == i:\n",
    "            avg = j[2] / j[1]\n",
    "            result_list = [local,j[1],avg,j[3]]\n",
    "            # print(f'{local}, {j[1]}, {avg}, {j[3]}')\n",
    "    except:\n",
    "        pass\n",
    "\n",
    "result_list = [['지점','폭염일수','폭염일의 최고체감온도평균','열대야횟수'],result_list]\n",
    "\n",
    "# usecsv.writecsv(f'{local}_{year[:]}{month}_폭염.csv',result_list)\n",
    "usecsv.writecsv('issue_data.csv',final_data)"
   ]
  }
 ],
 "metadata": {
  "kernelspec": {
   "display_name": "base",
   "language": "python",
   "name": "python3"
  },
  "language_info": {
   "codemirror_mode": {
    "name": "ipython",
    "version": 3
   },
   "file_extension": ".py",
   "mimetype": "text/x-python",
   "name": "python",
   "nbconvert_exporter": "python",
   "pygments_lexer": "ipython3",
   "version": "3.7.3"
  },
  "orig_nbformat": 4
 },
 "nbformat": 4,
 "nbformat_minor": 2
}
