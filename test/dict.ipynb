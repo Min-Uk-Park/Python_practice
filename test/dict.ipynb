{
 "cells": [
  {
   "cell_type": "code",
   "execution_count": 20,
   "metadata": {},
   "outputs": [],
   "source": [
    "# 딕셔너리 연습\n",
    "\n",
    "# 딕셔너리 생성\n",
    "\n",
    "student = {'name':'park','class':3,'score':[99,88,77]}\n",
    "\n",
    "student['name']\n",
    "student['class']\n",
    "student['score']\n",
    "student['score'][0]\n",
    "\n",
    "# 딕셔너리 생성\n",
    "student['grade'] = 3\n",
    "\n",
    "# 딕셔너리 삭제\n",
    "del student['grade']\n",
    "\n",
    "student.keys()\n",
    "student.values()\n",
    "student.items() # key,value를 튜플로 묶는다!\n",
    "\n",
    "student.get('name')\n",
    "student.get('adsfa') # None을 가진다. <-> 인덱싱과의 차이점은 인덱싱은 KEY값이 없으면 Error가 난다!\n",
    "# student['asdf'] # 인덱싱은 KEY값이 없으면 Error가 난다!\n",
    "\n",
    "\n"
   ]
  }
 ],
 "metadata": {
  "kernelspec": {
   "display_name": "base",
   "language": "python",
   "name": "python3"
  },
  "language_info": {
   "codemirror_mode": {
    "name": "ipython",
    "version": 3
   },
   "file_extension": ".py",
   "mimetype": "text/x-python",
   "name": "python",
   "nbconvert_exporter": "python",
   "pygments_lexer": "ipython3",
   "version": "3.7.3"
  },
  "orig_nbformat": 4
 },
 "nbformat": 4,
 "nbformat_minor": 2
}
