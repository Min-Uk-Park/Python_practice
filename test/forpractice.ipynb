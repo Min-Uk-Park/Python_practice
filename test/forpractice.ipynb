{
 "cells": [
  {
   "cell_type": "code",
   "execution_count": 8,
   "metadata": {},
   "outputs": [
    {
     "data": {
      "text/plain": [
       "[1, 3, 5, 1, 3, 9, 7, 1, 3, 3]"
      ]
     },
     "execution_count": 8,
     "metadata": {},
     "output_type": "execute_result"
    }
   ],
   "source": [
    "# for문 연습\n",
    "\n",
    "num = [1,3,5,4,1,2,3,6,9,8,7,4,1,3,3]\n",
    "odd_num = [i for i in num if i%2==1] # 리스트 내포 사용하여 홀수 숫자 구하기\n",
    "even_num = []\n",
    "\n",
    "for i in num:\n",
    "    if i % 2 == 0:\n",
    "        even_num.append(i)\n",
    "\n",
    "odd_num"
   ]
  },
  {
   "cell_type": "code",
   "execution_count": 10,
   "metadata": {},
   "outputs": [
    {
     "name": "stdout",
     "output_type": "stream",
     "text": [
      "kim는 90으로 합격입니다. \n",
      "iee는 99으로 합격입니다. \n"
     ]
    }
   ],
   "source": [
    "students = [['park',79],['kim',90],['hong',77],['gang',54],['iee',99]]\n",
    "\n",
    "for i,j in students:\n",
    "    if j>=80:\n",
    "        print(f'{i}는 {j}으로 합격입니다. ')\n"
   ]
  },
  {
   "cell_type": "code",
   "execution_count": 11,
   "metadata": {},
   "outputs": [
    {
     "name": "stdout",
     "output_type": "stream",
     "text": [
      "합격자 인원 수 : 2\n",
      "합격자 점수 평균 : 94.5\n"
     ]
    }
   ],
   "source": [
    "students = [['park',79],['kim',90],['hong',77],['gang',54],['iee',99]]\n",
    "\n",
    "pass_num = 0\n",
    "sum = 0\n",
    "\n",
    "for i in students:\n",
    "    if i[1]>=80:\n",
    "        pass_num+=1\n",
    "        sum+=i[1]\n",
    "        \n",
    "avg = sum/pass_num\n",
    "\n",
    "print(f'합격자 인원 수 : {pass_num}\\n합격자 점수 평균 : {avg}')"
   ]
  },
  {
   "cell_type": "code",
   "execution_count": 24,
   "metadata": {},
   "outputs": [
    {
     "data": {
      "text/plain": [
       "[('park', 79), ('kim', 90), ('hong', 77), ('gang', 54), ('iee', 99)]"
      ]
     },
     "execution_count": 24,
     "metadata": {},
     "output_type": "execute_result"
    }
   ],
   "source": [
    "# students = [['park',79],['kim',90],['hong',77],['gang',54],['iee',99]]\n",
    "name = ['park','kim','hong','gang','iee']\n",
    "score = [79,90,77,54,99]\n",
    "\n",
    "# zip : 대응하는 요소끼리 묶어서 쌍으로 만든다.\n",
    "# for i,j in zip(name,score):\n",
    "#     print(i,j)\n",
    "\n",
    "\n",
    "# enumerate : 객체의 각 요소에 번호를 매겨준다.\n",
    "# for i,j in enumerate(zip(name,score),1):\n",
    "#     print(i,j[0],j[1])\n",
    "\n",
    "a = list(zip(name,score))\n",
    "a"
   ]
  }
 ],
 "metadata": {
  "kernelspec": {
   "display_name": "base",
   "language": "python",
   "name": "python3"
  },
  "language_info": {
   "codemirror_mode": {
    "name": "ipython",
    "version": 3
   },
   "file_extension": ".py",
   "mimetype": "text/x-python",
   "name": "python",
   "nbconvert_exporter": "python",
   "pygments_lexer": "ipython3",
   "version": "3.7.3"
  },
  "orig_nbformat": 4
 },
 "nbformat": 4,
 "nbformat_minor": 2
}
