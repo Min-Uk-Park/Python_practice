{
 "cells": [
  {
   "cell_type": "code",
   "execution_count": 15,
   "metadata": {},
   "outputs": [
    {
     "data": {
      "text/plain": [
       "0    1\n",
       "1    2\n",
       "2    3\n",
       "3    4\n",
       "4    5\n",
       "dtype: int64"
      ]
     },
     "execution_count": 15,
     "metadata": {},
     "output_type": "execute_result"
    }
   ],
   "source": [
    "import pandas as pd # 데이터 분석을 위한 파이썬 패키지\n",
    "import numpy as np\n",
    "\n",
    "# 리스트를  Series로 생성(기본적인 인덱스 값은 0,1,2...)\n",
    "pds = pd.Series([1,2,3,4,5,6],dtype='int16')\n",
    "\n",
    "a=[1,2,3,4,5,6]\n",
    "b=[6,5,4,3,2,1]\n",
    "\n",
    "# numpy사용하여 np.ndarray(numpy 배열 자료형을 의미함)를 Series로 생성\n",
    "na = np.array(a)\n",
    "nb = np.array(b)\n",
    "\n",
    "nc = na + nb\n",
    "\n",
    "# pd.Series(nc)\n",
    "\n",
    "# dict를 사용하여 Series로 생성\n",
    "dit = {'국어':88,'영어':79,'수학':98}\n",
    "# pd.Series(dit)  # dict의 KEY값이 인덱스가 되고 value값이 value가 된다.\n",
    "\n",
    "#tuple를 사용하여 Series로 생성\n",
    "tp = (1,2,3,4,5)\n",
    "# pd.Series(tp)\n"
   ]
  },
  {
   "cell_type": "code",
   "execution_count": 16,
   "metadata": {},
   "outputs": [],
   "source": [
    "# 인덱스 지정해주기\n",
    "\n",
    "array = [21,22,23,54]\n",
    "\n",
    "family = pd.Series(array,index=['park','kim','hong','kang'])"
   ]
  },
  {
   "cell_type": "code",
   "execution_count": 31,
   "metadata": {},
   "outputs": [
    {
     "data": {
      "text/plain": [
       "23    1\n",
       "22    1\n",
       "21    1\n",
       "54    1\n",
       "Name: family, dtype: int64"
      ]
     },
     "execution_count": 31,
     "metadata": {},
     "output_type": "execute_result"
    }
   ],
   "source": [
    "# 시리즈 속성, 객체.속성\n",
    "family.size\n",
    "family.index\n",
    "family.values\n",
    "family.name = 'family'\n",
    "family.name\n",
    "family.ndim\n",
    "family.shape # (4,) 몇 행 몇 열\n",
    "family.dtype\n",
    "type(family.index)\n",
    "type(family.values)\n",
    "# 객체.메소드()\n",
    "family.value_counts()"
   ]
  },
  {
   "cell_type": "code",
   "execution_count": 33,
   "metadata": {},
   "outputs": [],
   "source": [
    "#시리즈 인덱싱 슬라이싱\n",
    "\n",
    "slidearr = [1,2,3,4,5,6,7,8,9,10]\n",
    "slideindex = ['a','b','c','d','e','f','g','h','i','j']\n",
    "\n",
    "sr = pd.Series(slidearr,index=slideindex)"
   ]
  },
  {
   "cell_type": "code",
   "execution_count": 41,
   "metadata": {},
   "outputs": [
    {
     "data": {
      "text/plain": [
       "8"
      ]
     },
     "execution_count": 41,
     "metadata": {},
     "output_type": "execute_result"
    }
   ],
   "source": [
    "# 기본 인덱싱(0,1,2.3 ~)\n",
    "sr[1] # 앞에서 부터 ~ \n",
    "sr[-1] # 뒤에서 부터~\n",
    "\n",
    "# 부여된 인덱싱\n",
    "sr['a']\n",
    "sr['h']"
   ]
  },
  {
   "cell_type": "code",
   "execution_count": 55,
   "metadata": {},
   "outputs": [
    {
     "data": {
      "text/plain": [
       "f     6\n",
       "g     7\n",
       "h     8\n",
       "i     9\n",
       "j    10\n",
       "dtype: int64"
      ]
     },
     "execution_count": 55,
     "metadata": {},
     "output_type": "execute_result"
    }
   ],
   "source": [
    "#[시작:끝+1:증감]\n",
    "\n",
    "sr[0:10:2] # sr[[1,3,5,7,9]]와 같음\n",
    "sr[8:0:-2] # sr[[9,7,5,3]]와 같음\n",
    "\n",
    "# sr['a':7:1] # 부여된 인덱스와 기본 인덱스 혼용 불가능!!\n",
    "\n",
    "sr[:5]\n",
    "sr[5:]\n"
   ]
  },
  {
   "cell_type": "code",
   "execution_count": 94,
   "metadata": {},
   "outputs": [
    {
     "data": {
      "text/plain": [
       "a    86\n",
       "b    77\n",
       "c    94\n",
       "d    70\n",
       "e    88\n",
       "f    60\n",
       "g    81\n",
       "h    91\n",
       "i    74\n",
       "j    84\n",
       "Name: score2, dtype: int32"
      ]
     },
     "execution_count": 94,
     "metadata": {},
     "output_type": "execute_result"
    }
   ],
   "source": [
    "\n",
    "data = [85,76,93,69,87,59,80,90,73,83]\n",
    "idata=['a','b','c','d','e','f','g','h','i','j']\n",
    "\n",
    "score = pd.Series(data,index=idata,name='score')\n",
    "\n",
    "# score.name\n",
    "\n",
    "score2 = pd.Series(np.array(data)+1,index=idata,name='score2')\n",
    "\n",
    "# score2.name\n",
    "score2"
   ]
  },
  {
   "cell_type": "code",
   "execution_count": 100,
   "metadata": {},
   "outputs": [
    {
     "data": {
      "text/plain": [
       "a    85\n",
       "b    76\n",
       "c    93\n",
       "d    69\n",
       "e    87\n",
       "f    59\n",
       "g    80\n",
       "h    90\n",
       "i    73\n",
       "j    83\n",
       "Name: score, dtype: int64"
      ]
     },
     "execution_count": 100,
     "metadata": {},
     "output_type": "execute_result"
    }
   ],
   "source": [
    "score.iloc[:]\n",
    "\n",
    "score.loc[['a','j']]\n",
    "score.loc['a':'j']"
   ]
  },
  {
   "cell_type": "code",
   "execution_count": 110,
   "metadata": {},
   "outputs": [
    {
     "data": {
      "text/plain": [
       "1    85\n",
       "5    87\n",
       "Name: score, dtype: int64"
      ]
     },
     "execution_count": 110,
     "metadata": {},
     "output_type": "execute_result"
    }
   ],
   "source": [
    "score.index = np.arange(1,11,1)\n",
    "\n",
    "score\n",
    "\n",
    "score.iloc[:]\n",
    "score.loc['1':'2']\n",
    "score.loc[[1,5]]"
   ]
  }
 ],
 "metadata": {
  "kernelspec": {
   "display_name": "base",
   "language": "python",
   "name": "python3"
  },
  "language_info": {
   "codemirror_mode": {
    "name": "ipython",
    "version": 3
   },
   "file_extension": ".py",
   "mimetype": "text/x-python",
   "name": "python",
   "nbconvert_exporter": "python",
   "pygments_lexer": "ipython3",
   "version": "3.7.3"
  },
  "orig_nbformat": 4
 },
 "nbformat": 4,
 "nbformat_minor": 2
}
