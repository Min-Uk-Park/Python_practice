{
 "cells": [
  {
   "cell_type": "code",
   "execution_count": 1,
   "metadata": {},
   "outputs": [],
   "source": [
    "import pandas as pd # 데이터 분석을 위한 파이썬 패키지\n",
    "import numpy as np\n",
    "\n",
    "# 리스트를  Series로 생성(기본적인 인덱스 값은 0,1,2...)\n",
    "pds = pd.Series([1,2,3,4,5,6],dtype='int16')\n",
    "\n",
    "a=[1,2,3,4,5,6]\n",
    "b=[6,5,4,3,2,1]\n",
    "\n",
    "# numpy사용하여 np.ndarray(numpy 배열 자료형을 의미함)를 Series로 생성\n",
    "na = np.array(a)\n",
    "nb = np.array(b)\n",
    "\n",
    "nc = na + nb\n",
    "\n",
    "# pd.Series(nc)\n",
    "\n",
    "# dict를 사용하여 Series로 생성\n",
    "dit = {'국어':88,'영어':79,'수학':98}\n",
    "# pd.Series(dit)  # dict의 KEY값이 인덱스가 되고 value값이 value가 된다.\n",
    "\n",
    "#tuple를 사용하여 Series로 생성\n",
    "tp = (1,2,3,4,5)\n",
    "# pd.Series(tp)\n"
   ]
  },
  {
   "cell_type": "code",
   "execution_count": 2,
   "metadata": {},
   "outputs": [],
   "source": [
    "# 인덱스 지정해주기\n",
    "\n",
    "array = [21,22,23,54]\n",
    "\n",
    "family = pd.Series(array,index=['park','kim','hong','kang'])"
   ]
  },
  {
   "cell_type": "code",
   "execution_count": 3,
   "metadata": {},
   "outputs": [
    {
     "data": {
      "text/plain": [
       "23    1\n",
       "22    1\n",
       "21    1\n",
       "54    1\n",
       "Name: family, dtype: int64"
      ]
     },
     "execution_count": 3,
     "metadata": {},
     "output_type": "execute_result"
    }
   ],
   "source": [
    "# 시리즈 속성, 객체.속성\n",
    "family.size\n",
    "family.index\n",
    "family.values\n",
    "family.name = 'family'\n",
    "family.name\n",
    "family.ndim\n",
    "family.shape # (4,) 몇 행 몇 열\n",
    "family.dtype\n",
    "type(family.index)\n",
    "type(family.values)\n",
    "# 객체.메소드()\n",
    "family.value_counts()"
   ]
  },
  {
   "cell_type": "code",
   "execution_count": 4,
   "metadata": {},
   "outputs": [],
   "source": [
    "#시리즈 인덱싱 슬라이싱\n",
    "\n",
    "slidearr = [1,2,3,4,5,6,7,8,9,10]\n",
    "slideindex = ['a','b','c','d','e','f','g','h','i','j']\n",
    "\n",
    "sr = pd.Series(slidearr,index=slideindex)"
   ]
  },
  {
   "cell_type": "code",
   "execution_count": 5,
   "metadata": {},
   "outputs": [
    {
     "data": {
      "text/plain": [
       "8"
      ]
     },
     "execution_count": 5,
     "metadata": {},
     "output_type": "execute_result"
    }
   ],
   "source": [
    "# 기본 인덱싱(0,1,2.3 ~)\n",
    "sr[1] # 앞에서 부터 ~ \n",
    "sr[-1] # 뒤에서 부터~\n",
    "\n",
    "# 부여된 인덱싱\n",
    "sr['a']\n",
    "sr['h']"
   ]
  },
  {
   "cell_type": "code",
   "execution_count": 6,
   "metadata": {},
   "outputs": [
    {
     "data": {
      "text/plain": [
       "f     6\n",
       "g     7\n",
       "h     8\n",
       "i     9\n",
       "j    10\n",
       "dtype: int64"
      ]
     },
     "execution_count": 6,
     "metadata": {},
     "output_type": "execute_result"
    }
   ],
   "source": [
    "#[시작:끝+1:증감]\n",
    "\n",
    "sr[0:10:2] # sr[[1,3,5,7,9]]와 같음\n",
    "sr[8:0:-2] # sr[[9,7,5,3]]와 같음\n",
    "\n",
    "# sr['a':7:1] # 부여된 인덱스와 기본 인덱스 혼용 불가능!!\n",
    "\n",
    "sr[:5]\n",
    "sr[5:]\n"
   ]
  },
  {
   "cell_type": "code",
   "execution_count": 7,
   "metadata": {},
   "outputs": [
    {
     "data": {
      "text/plain": [
       "a    86\n",
       "b    77\n",
       "c    94\n",
       "d    70\n",
       "e    88\n",
       "f    60\n",
       "g    81\n",
       "h    91\n",
       "i    74\n",
       "j    84\n",
       "Name: score2, dtype: int32"
      ]
     },
     "execution_count": 7,
     "metadata": {},
     "output_type": "execute_result"
    }
   ],
   "source": [
    "\n",
    "data = [85,76,93,69,87,59,80,90,73,83]\n",
    "idata=['a','b','c','d','e','f','g','h','i','j']\n",
    "\n",
    "score = pd.Series(data,index=idata,name='score')\n",
    "\n",
    "# score.name\n",
    "\n",
    "score2 = pd.Series(np.array(data)+1,index=idata,name='score2')\n",
    "\n",
    "# score2.name\n",
    "score2"
   ]
  },
  {
   "cell_type": "code",
   "execution_count": 8,
   "metadata": {},
   "outputs": [
    {
     "data": {
      "text/plain": [
       "a    85\n",
       "b    76\n",
       "c    93\n",
       "d    69\n",
       "e    87\n",
       "f    59\n",
       "g    80\n",
       "h    90\n",
       "i    73\n",
       "j    83\n",
       "Name: score, dtype: int64"
      ]
     },
     "execution_count": 8,
     "metadata": {},
     "output_type": "execute_result"
    }
   ],
   "source": [
    "score.iloc[:]\n",
    "\n",
    "score.loc[['a','j']]\n",
    "score.loc['a':'j']"
   ]
  },
  {
   "cell_type": "code",
   "execution_count": 9,
   "metadata": {},
   "outputs": [
    {
     "data": {
      "text/plain": [
       "1    85\n",
       "5    87\n",
       "Name: score, dtype: int64"
      ]
     },
     "execution_count": 9,
     "metadata": {},
     "output_type": "execute_result"
    }
   ],
   "source": [
    "score.index = np.arange(1,11,1)\n",
    "\n",
    "score\n",
    "\n",
    "score.iloc[:]\n",
    "score.loc['1':'2']\n",
    "score.loc[[1,5]]"
   ]
  },
  {
   "cell_type": "code",
   "execution_count": 26,
   "metadata": {},
   "outputs": [
    {
     "data": {
      "text/plain": [
       "2    76\n",
       "3    93\n",
       "4    69\n",
       "6    59\n",
       "8    90\n",
       "9    73\n",
       "Name: score, dtype: int64"
      ]
     },
     "execution_count": 26,
     "metadata": {},
     "output_type": "execute_result"
    }
   ],
   "source": [
    "# Series 연산 가능 : +,-,*,/,%,//,**\n",
    "score+2\n",
    "pd.Series(score.values + score2.values)\n",
    "\n",
    "# 관계연산(>,>=,<.<=,==,!=)\n",
    "\n",
    "score[score>=80]\n",
    "# print(score[[True,False,True,False,True,False,True,False,True,False]]) # boolean indexing을 할 때는 요소의 갯수가 같아야 함\n",
    "\n",
    "score[score>=80].size # 점수가 80점 이상인 Value의 개수\n",
    "score[score>=80] # 점수가 80점 이상인 Value들\n",
    "score[~((score>=80)&(score<90))] # 점수가 80점대가 아닌!! Value들\n",
    "\n",
    "\n",
    "\n",
    "\n"
   ]
  },
  {
   "cell_type": "code",
   "execution_count": 79,
   "metadata": {},
   "outputs": [
    {
     "data": {
      "text/plain": [
       "a    92\n",
       "c    93\n",
       "h    90\n",
       "Name: score, dtype: int64"
      ]
     },
     "execution_count": 79,
     "metadata": {},
     "output_type": "execute_result"
    }
   ],
   "source": [
    "#Series CRUD Create, Read, Update, Delete\n",
    "\n",
    "data = [85,76,93,69,87,59,80,90,73,83]\n",
    "idata=['a','b','c','d','e','f','g','h','i','j']\n",
    "\n",
    "sr = pd.Series(data,index=idata,name='score')\n",
    "\n",
    "sr2 = pd.Series(np.array(data)+1,index=idata,name='score2')\n",
    "\n",
    "sr.iloc[0] = 92 # sr.loc['a'] 와 같음\n",
    "\n",
    "# len(sr.iloc[:].values)\n",
    "\n",
    "sr.loc['k'] = 88\n",
    "\n",
    "# 원본이 안바뀌게 ~ \n",
    "a = sr[sr>=90]\n",
    "a = a + 10\n",
    "\n",
    "a\n",
    "sr[sr>=90]\n",
    "\n",
    "# 원본이 바뀌는 경우\n",
    "# sr[sr>=90] = sr[sr>=90] + 10\n",
    "# sr[sr>=90]"
   ]
  },
  {
   "cell_type": "code",
   "execution_count": 95,
   "metadata": {},
   "outputs": [
    {
     "data": {
      "text/plain": [
       "g    80\n",
       "h    90\n",
       "i    73\n",
       "j    83\n",
       "k    88\n",
       "Name: score, dtype: int64"
      ]
     },
     "execution_count": 95,
     "metadata": {},
     "output_type": "execute_result"
    }
   ],
   "source": [
    "# 삭제 : drop(부여된 인덱스)\n",
    "k = [0,1,2,3,4,5]\n",
    "k_sr = pd.Series(k)\n",
    "\n",
    "k_sr.drop(1,inplace=True) # 기본 인덱스로 드롭가능 왜냐면 문자 인덱스가 아니므로\n",
    "k_sr\n",
    "\n",
    "# 그러나 문자로 된 부여 인덱싱일 경우는 기본 인덱스로 drop못 함!!\n",
    "\n",
    "# sr.drop(0) # Erroe!!\n",
    "# sr.drop('a') # 인덱스 부분을 문자(부여된 인덱스)로 지정해야함\n",
    "\n",
    "sr.drop('d',inplace=True) # 원본에 적용하려면 inplace = True 해야함★\n",
    "\n",
    "sr.drop(['e','f'],inplace=True) # 두 개 한 번에 가능\n",
    "\n",
    "sr"
   ]
  },
  {
   "cell_type": "code",
   "execution_count": 98,
   "metadata": {},
   "outputs": [
    {
     "data": {
      "text/html": [
       "<div>\n",
       "<style scoped>\n",
       "    .dataframe tbody tr th:only-of-type {\n",
       "        vertical-align: middle;\n",
       "    }\n",
       "\n",
       "    .dataframe tbody tr th {\n",
       "        vertical-align: top;\n",
       "    }\n",
       "\n",
       "    .dataframe thead th {\n",
       "        text-align: right;\n",
       "    }\n",
       "</style>\n",
       "<table border=\"1\" class=\"dataframe\">\n",
       "  <thead>\n",
       "    <tr style=\"text-align: right;\">\n",
       "      <th></th>\n",
       "      <th>0</th>\n",
       "    </tr>\n",
       "  </thead>\n",
       "  <tbody>\n",
       "    <tr>\n",
       "      <th>0</th>\n",
       "      <td>홍길동</td>\n",
       "    </tr>\n",
       "    <tr>\n",
       "      <th>1</th>\n",
       "      <td>신진식</td>\n",
       "    </tr>\n",
       "    <tr>\n",
       "      <th>2</th>\n",
       "      <td>최불암</td>\n",
       "    </tr>\n",
       "    <tr>\n",
       "      <th>3</th>\n",
       "      <td>조계현</td>\n",
       "    </tr>\n",
       "    <tr>\n",
       "      <th>4</th>\n",
       "      <td>김병현</td>\n",
       "    </tr>\n",
       "    <tr>\n",
       "      <th>5</th>\n",
       "      <td>서정원</td>\n",
       "    </tr>\n",
       "  </tbody>\n",
       "</table>\n",
       "</div>"
      ],
      "text/plain": [
       "     0\n",
       "0  홍길동\n",
       "1  신진식\n",
       "2  최불암\n",
       "3  조계현\n",
       "4  김병현\n",
       "5  서정원"
      ]
     },
     "execution_count": 98,
     "metadata": {},
     "output_type": "execute_result"
    }
   ],
   "source": [
    "# data = [85,80,93,69,87,59,80,90,73,80]\n",
    "# idata=['a','b','c','d','e','f','g','h','i','j']\n",
    "# sr = pd.Series(data,index=idata,name='score')\n",
    "\n",
    "\n",
    "n"
   ]
  }
 ],
 "metadata": {
  "kernelspec": {
   "display_name": "base",
   "language": "python",
   "name": "python3"
  },
  "language_info": {
   "codemirror_mode": {
    "name": "ipython",
    "version": 3
   },
   "file_extension": ".py",
   "mimetype": "text/x-python",
   "name": "python",
   "nbconvert_exporter": "python",
   "pygments_lexer": "ipython3",
   "version": "3.7.3"
  },
  "orig_nbformat": 4
 },
 "nbformat": 4,
 "nbformat_minor": 2
}
